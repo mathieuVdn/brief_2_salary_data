{
 "cells": [
  {
   "cell_type": "code",
   "execution_count": 177,
   "id": "initial_id",
   "metadata": {
    "collapsed": true,
    "ExecuteTime": {
     "end_time": "2023-10-26T09:10:14.672821500Z",
     "start_time": "2023-10-26T09:10:14.508137200Z"
    }
   },
   "outputs": [],
   "source": [
    "import pandas as pd\n",
    "import pycountry\n",
    "\n",
    "data_2021_2023 = pd.read_csv('Data/salaries.csv')\n",
    "data_2017_2020 = pd.read_csv('Data/2019_Data_Professional_Salary_Survey_Responses.csv')"
   ]
  },
  {
   "cell_type": "code",
   "execution_count": 178,
   "outputs": [
    {
     "data": {
      "text/plain": "   work_year experience_level employment_type                  job_title  \\\n0       2023               SE              FT  Machine Learning Engineer   \n1       2023               MI              FT               BI Developer   \n2       2023               MI              FT               BI Developer   \n3       2023               MI              FT               Data Analyst   \n4       2023               MI              FT               Data Analyst   \n\n   salary_in_usd employee_residence company_location  \n0          70179                 IT               US  \n1         110000                 US               US  \n2          75000                 US               US  \n3          46426                 SI               SI  \n4          38868                 SI               SI  ",
      "text/html": "<div>\n<style scoped>\n    .dataframe tbody tr th:only-of-type {\n        vertical-align: middle;\n    }\n\n    .dataframe tbody tr th {\n        vertical-align: top;\n    }\n\n    .dataframe thead th {\n        text-align: right;\n    }\n</style>\n<table border=\"1\" class=\"dataframe\">\n  <thead>\n    <tr style=\"text-align: right;\">\n      <th></th>\n      <th>work_year</th>\n      <th>experience_level</th>\n      <th>employment_type</th>\n      <th>job_title</th>\n      <th>salary_in_usd</th>\n      <th>employee_residence</th>\n      <th>company_location</th>\n    </tr>\n  </thead>\n  <tbody>\n    <tr>\n      <th>0</th>\n      <td>2023</td>\n      <td>SE</td>\n      <td>FT</td>\n      <td>Machine Learning Engineer</td>\n      <td>70179</td>\n      <td>IT</td>\n      <td>US</td>\n    </tr>\n    <tr>\n      <th>1</th>\n      <td>2023</td>\n      <td>MI</td>\n      <td>FT</td>\n      <td>BI Developer</td>\n      <td>110000</td>\n      <td>US</td>\n      <td>US</td>\n    </tr>\n    <tr>\n      <th>2</th>\n      <td>2023</td>\n      <td>MI</td>\n      <td>FT</td>\n      <td>BI Developer</td>\n      <td>75000</td>\n      <td>US</td>\n      <td>US</td>\n    </tr>\n    <tr>\n      <th>3</th>\n      <td>2023</td>\n      <td>MI</td>\n      <td>FT</td>\n      <td>Data Analyst</td>\n      <td>46426</td>\n      <td>SI</td>\n      <td>SI</td>\n    </tr>\n    <tr>\n      <th>4</th>\n      <td>2023</td>\n      <td>MI</td>\n      <td>FT</td>\n      <td>Data Analyst</td>\n      <td>38868</td>\n      <td>SI</td>\n      <td>SI</td>\n    </tr>\n  </tbody>\n</table>\n</div>"
     },
     "execution_count": 178,
     "metadata": {},
     "output_type": "execute_result"
    }
   ],
   "source": [
    "data_2021_2023_copy = data_2021_2023.copy()\n",
    "data_2021_2023_copy = data_2021_2023_copy.drop([\"company_size\", \"remote_ratio\", \"salary_currency\", \"company_size\", \"salary\"], axis=1)\n",
    "data_2021_2023_copy.head()"
   ],
   "metadata": {
    "collapsed": false,
    "ExecuteTime": {
     "end_time": "2023-10-26T09:10:14.973774200Z",
     "start_time": "2023-10-26T09:10:14.928251Z"
    }
   },
   "id": "13a6b79b4b4cd134"
  },
  {
   "cell_type": "code",
   "execution_count": 179,
   "outputs": [],
   "source": [
    "  #copy de dataframe 2017-2020\n",
    "data_2017_2020_copy = data_2017_2020.copy()"
   ],
   "metadata": {
    "collapsed": false,
    "ExecuteTime": {
     "end_time": "2023-10-26T09:10:15.530666Z",
     "start_time": "2023-10-26T09:10:15.424654600Z"
    }
   },
   "id": "1dabfe0c85f54509"
  },
  {
   "cell_type": "code",
   "execution_count": 180,
   "outputs": [
    {
     "data": {
      "text/plain": "      Survey Year SalaryUSD         Country  \\\n0            2017    200000   United States   \n1            2017     61515  United Kingdom   \n2            2017     95000         Germany   \n3            2017     56000  United Kingdom   \n4            2017     35000          France   \n...           ...       ...             ...   \n6888         2019     32000         Hungary   \n6889         2019     32000         Hungary   \n6890         2019     40000        Portugal   \n6891         2019    130000   United States   \n6892         2019     84500          Canada   \n\n                                       EmploymentStatus  \\\n0                                    Full time employee   \n1                                    Full time employee   \n2                                    Full time employee   \n3                                    Full time employee   \n4     Full time employee of a consulting/contracting...   \n...                                                 ...   \n6888                                 Full time employee   \n6889                                 Full time employee   \n6890  Full time employee of a consulting/contracting...   \n6891  Full time employee of a consulting/contracting...   \n6892                                 Full time employee   \n\n                                               JobTitle  \n0                                                   DBA  \n1                                                   DBA  \n2                                                 Other  \n3                                                   DBA  \n4                                                   DBA  \n...                                                 ...  \n6888  DBA (General - splits time evenly between writ...  \n6889  DBA (General - splits time evenly between writ...  \n6890                  Developer: App code (C#, JS, etc)  \n6891  DBA (General - splits time evenly between writ...  \n6892                                          Architect  \n\n[6893 rows x 5 columns]",
      "text/html": "<div>\n<style scoped>\n    .dataframe tbody tr th:only-of-type {\n        vertical-align: middle;\n    }\n\n    .dataframe tbody tr th {\n        vertical-align: top;\n    }\n\n    .dataframe thead th {\n        text-align: right;\n    }\n</style>\n<table border=\"1\" class=\"dataframe\">\n  <thead>\n    <tr style=\"text-align: right;\">\n      <th></th>\n      <th>Survey Year</th>\n      <th>SalaryUSD</th>\n      <th>Country</th>\n      <th>EmploymentStatus</th>\n      <th>JobTitle</th>\n    </tr>\n  </thead>\n  <tbody>\n    <tr>\n      <th>0</th>\n      <td>2017</td>\n      <td>200000</td>\n      <td>United States</td>\n      <td>Full time employee</td>\n      <td>DBA</td>\n    </tr>\n    <tr>\n      <th>1</th>\n      <td>2017</td>\n      <td>61515</td>\n      <td>United Kingdom</td>\n      <td>Full time employee</td>\n      <td>DBA</td>\n    </tr>\n    <tr>\n      <th>2</th>\n      <td>2017</td>\n      <td>95000</td>\n      <td>Germany</td>\n      <td>Full time employee</td>\n      <td>Other</td>\n    </tr>\n    <tr>\n      <th>3</th>\n      <td>2017</td>\n      <td>56000</td>\n      <td>United Kingdom</td>\n      <td>Full time employee</td>\n      <td>DBA</td>\n    </tr>\n    <tr>\n      <th>4</th>\n      <td>2017</td>\n      <td>35000</td>\n      <td>France</td>\n      <td>Full time employee of a consulting/contracting...</td>\n      <td>DBA</td>\n    </tr>\n    <tr>\n      <th>...</th>\n      <td>...</td>\n      <td>...</td>\n      <td>...</td>\n      <td>...</td>\n      <td>...</td>\n    </tr>\n    <tr>\n      <th>6888</th>\n      <td>2019</td>\n      <td>32000</td>\n      <td>Hungary</td>\n      <td>Full time employee</td>\n      <td>DBA (General - splits time evenly between writ...</td>\n    </tr>\n    <tr>\n      <th>6889</th>\n      <td>2019</td>\n      <td>32000</td>\n      <td>Hungary</td>\n      <td>Full time employee</td>\n      <td>DBA (General - splits time evenly between writ...</td>\n    </tr>\n    <tr>\n      <th>6890</th>\n      <td>2019</td>\n      <td>40000</td>\n      <td>Portugal</td>\n      <td>Full time employee of a consulting/contracting...</td>\n      <td>Developer: App code (C#, JS, etc)</td>\n    </tr>\n    <tr>\n      <th>6891</th>\n      <td>2019</td>\n      <td>130000</td>\n      <td>United States</td>\n      <td>Full time employee of a consulting/contracting...</td>\n      <td>DBA (General - splits time evenly between writ...</td>\n    </tr>\n    <tr>\n      <th>6892</th>\n      <td>2019</td>\n      <td>84500</td>\n      <td>Canada</td>\n      <td>Full time employee</td>\n      <td>Architect</td>\n    </tr>\n  </tbody>\n</table>\n<p>6893 rows × 5 columns</p>\n</div>"
     },
     "execution_count": 180,
     "metadata": {},
     "output_type": "execute_result"
    }
   ],
   "source": [
    "data_2017_2020_copy = data_2017_2020_copy.drop([ 'Timestamp', 'PostalCode',\n",
    "       'PrimaryDatabase', 'YearsWithThisDatabase', 'OtherDatabases',\n",
    "        'ManageStaff', 'YearsWithThisTypeOfJob',\n",
    "       'HowManyCompanies', 'OtherPeopleOnYourTeam', 'CompanyEmployeesOverall',\n",
    "       'DatabaseServers', 'Education', 'EducationIsComputerRelated',\n",
    "       'Certifications', 'HoursWorkedPerWeek', 'TelecommuteDaysPerWeek',\n",
    "       'PopulationOfLargestCityWithin20Miles',\n",
    "       'LookingForAnotherJob', 'CareerPlansThisYear', 'Gender',\n",
    "       'OtherJobDuties', 'KindsOfTasksPerformed', 'Counter', 'EmploymentSector'], axis=1)\n",
    "data_2017_2020_copy "
   ],
   "metadata": {
    "collapsed": false,
    "ExecuteTime": {
     "end_time": "2023-10-26T09:10:15.831846400Z",
     "start_time": "2023-10-26T09:10:15.677188200Z"
    }
   },
   "id": "48451453184a11b9"
  },
  {
   "cell_type": "code",
   "execution_count": 180,
   "outputs": [],
   "source": [],
   "metadata": {
    "collapsed": false,
    "ExecuteTime": {
     "end_time": "2023-10-26T09:10:15.991731100Z",
     "start_time": "2023-10-26T09:10:15.892935800Z"
    }
   },
   "id": "85798d1542419db3"
  },
  {
   "cell_type": "code",
   "execution_count": 181,
   "outputs": [],
   "source": [
    "data_2017_2020_copy['EmploymentStatus'] = data_2017_2020_copy['EmploymentStatus'].copy()\n",
    "data_2017_2020_copy.loc[:,'EmploymentStatus'] = data_2017_2020_copy['EmploymentStatus'].replace('Full time employee', 'Full time').replace('Full time employee of a consulting/contracting company', 'Full time').replace('Independent or freelancer or company owner', 'Freelance').replace('Independent consultant, contractor, freelancer,  or company owner', 'Contract')"
   ],
   "metadata": {
    "collapsed": false,
    "ExecuteTime": {
     "end_time": "2023-10-26T09:10:16.356542800Z",
     "start_time": "2023-10-26T09:10:16.185754200Z"
    }
   },
   "id": "797ecd3eaa0d58db"
  },
  {
   "cell_type": "code",
   "execution_count": 182,
   "outputs": [],
   "source": [
    "data_2021_2023_copy['employment_type'] = data_2021_2023_copy['employment_type'].copy()\n",
    "data_2021_2023_copy.loc[:,'employment_type'] = data_2021_2023_copy['employment_type'].replace('FT', 'Full time').replace('CT', 'Contract').replace('PT', 'Part time').replace('FL', 'Freelance')"
   ],
   "metadata": {
    "collapsed": false,
    "ExecuteTime": {
     "end_time": "2023-10-26T09:10:16.536257100Z",
     "start_time": "2023-10-26T09:10:16.432789600Z"
    }
   },
   "id": "86cce5affe51a51"
  },
  {
   "cell_type": "code",
   "execution_count": 183,
   "outputs": [],
   "source": [
    "def get_country_name(initial):\n",
    "    try:\n",
    "        country = pycountry.countries.get(alpha_2=initial)\n",
    "        return country.name\n",
    "    except AttributeError:\n",
    "        return initial"
   ],
   "metadata": {
    "collapsed": false,
    "ExecuteTime": {
     "end_time": "2023-10-26T09:10:16.795849200Z",
     "start_time": "2023-10-26T09:10:16.720503Z"
    }
   },
   "id": "179dcaebd542242f"
  },
  {
   "cell_type": "code",
   "execution_count": 184,
   "outputs": [
    {
     "data": {
      "text/plain": "   work_year experience_level employment_type                  job_title  \\\n0       2023               SE       Full time  Machine Learning Engineer   \n1       2023               MI       Full time               BI Developer   \n2       2023               MI       Full time               BI Developer   \n3       2023               MI       Full time               Data Analyst   \n4       2023               MI       Full time               Data Analyst   \n\n   salary_in_usd employee_residence        Country  \n0          70179              Italy  United States  \n1         110000      United States  United States  \n2          75000      United States  United States  \n3          46426           Slovenia       Slovenia  \n4          38868           Slovenia       Slovenia  ",
      "text/html": "<div>\n<style scoped>\n    .dataframe tbody tr th:only-of-type {\n        vertical-align: middle;\n    }\n\n    .dataframe tbody tr th {\n        vertical-align: top;\n    }\n\n    .dataframe thead th {\n        text-align: right;\n    }\n</style>\n<table border=\"1\" class=\"dataframe\">\n  <thead>\n    <tr style=\"text-align: right;\">\n      <th></th>\n      <th>work_year</th>\n      <th>experience_level</th>\n      <th>employment_type</th>\n      <th>job_title</th>\n      <th>salary_in_usd</th>\n      <th>employee_residence</th>\n      <th>Country</th>\n    </tr>\n  </thead>\n  <tbody>\n    <tr>\n      <th>0</th>\n      <td>2023</td>\n      <td>SE</td>\n      <td>Full time</td>\n      <td>Machine Learning Engineer</td>\n      <td>70179</td>\n      <td>Italy</td>\n      <td>United States</td>\n    </tr>\n    <tr>\n      <th>1</th>\n      <td>2023</td>\n      <td>MI</td>\n      <td>Full time</td>\n      <td>BI Developer</td>\n      <td>110000</td>\n      <td>United States</td>\n      <td>United States</td>\n    </tr>\n    <tr>\n      <th>2</th>\n      <td>2023</td>\n      <td>MI</td>\n      <td>Full time</td>\n      <td>BI Developer</td>\n      <td>75000</td>\n      <td>United States</td>\n      <td>United States</td>\n    </tr>\n    <tr>\n      <th>3</th>\n      <td>2023</td>\n      <td>MI</td>\n      <td>Full time</td>\n      <td>Data Analyst</td>\n      <td>46426</td>\n      <td>Slovenia</td>\n      <td>Slovenia</td>\n    </tr>\n    <tr>\n      <th>4</th>\n      <td>2023</td>\n      <td>MI</td>\n      <td>Full time</td>\n      <td>Data Analyst</td>\n      <td>38868</td>\n      <td>Slovenia</td>\n      <td>Slovenia</td>\n    </tr>\n  </tbody>\n</table>\n</div>"
     },
     "execution_count": 184,
     "metadata": {},
     "output_type": "execute_result"
    }
   ],
   "source": [
    "data_2021_2023_copy['company_location'] = data_2021_2023_copy['company_location'].apply(get_country_name)\n",
    "data_2021_2023_copy.rename(columns={'company_location': 'Country'}, inplace=True)\n",
    "\n",
    "data_2021_2023_copy['employee_residence'] = data_2021_2023_copy['employee_residence'].apply(get_country_name)\n",
    "data_2021_2023_copy.head()"
   ],
   "metadata": {
    "collapsed": false,
    "ExecuteTime": {
     "end_time": "2023-10-26T09:10:17.220241600Z",
     "start_time": "2023-10-26T09:10:17.089982600Z"
    }
   },
   "id": "7a0348422eab4bde"
  },
  {
   "cell_type": "code",
   "execution_count": 185,
   "outputs": [
    {
     "data": {
      "text/plain": "      work_year experience_level employment_type                  job_title  \\\n0          2023           Expert       Full time  Machine Learning Engineer   \n1          2023    Internmediate       Full time               BI Developer   \n2          2023    Internmediate       Full time               BI Developer   \n3          2023    Internmediate       Full time               Data Analyst   \n4          2023    Internmediate       Full time               Data Analyst   \n...         ...              ...             ...                        ...   \n8097       2020           Expert       Full time             Data Scientist   \n8098       2021    Internmediate       Full time   Principal Data Scientist   \n8099       2020           Junior       Full time             Data Scientist   \n8100       2020           Junior        Contract      Business Data Analyst   \n8101       2021           Expert       Full time       Data Science Manager   \n\n      salary_in_usd employee_residence        Country  \n0             70179              Italy  United States  \n1            110000      United States  United States  \n2             75000      United States  United States  \n3             46426           Slovenia       Slovenia  \n4             38868           Slovenia       Slovenia  \n...             ...                ...            ...  \n8097         412000      United States  United States  \n8098         151000      United States  United States  \n8099         105000      United States  United States  \n8100         100000      United States  United States  \n8101          94665              India          India  \n\n[8102 rows x 7 columns]",
      "text/html": "<div>\n<style scoped>\n    .dataframe tbody tr th:only-of-type {\n        vertical-align: middle;\n    }\n\n    .dataframe tbody tr th {\n        vertical-align: top;\n    }\n\n    .dataframe thead th {\n        text-align: right;\n    }\n</style>\n<table border=\"1\" class=\"dataframe\">\n  <thead>\n    <tr style=\"text-align: right;\">\n      <th></th>\n      <th>work_year</th>\n      <th>experience_level</th>\n      <th>employment_type</th>\n      <th>job_title</th>\n      <th>salary_in_usd</th>\n      <th>employee_residence</th>\n      <th>Country</th>\n    </tr>\n  </thead>\n  <tbody>\n    <tr>\n      <th>0</th>\n      <td>2023</td>\n      <td>Expert</td>\n      <td>Full time</td>\n      <td>Machine Learning Engineer</td>\n      <td>70179</td>\n      <td>Italy</td>\n      <td>United States</td>\n    </tr>\n    <tr>\n      <th>1</th>\n      <td>2023</td>\n      <td>Internmediate</td>\n      <td>Full time</td>\n      <td>BI Developer</td>\n      <td>110000</td>\n      <td>United States</td>\n      <td>United States</td>\n    </tr>\n    <tr>\n      <th>2</th>\n      <td>2023</td>\n      <td>Internmediate</td>\n      <td>Full time</td>\n      <td>BI Developer</td>\n      <td>75000</td>\n      <td>United States</td>\n      <td>United States</td>\n    </tr>\n    <tr>\n      <th>3</th>\n      <td>2023</td>\n      <td>Internmediate</td>\n      <td>Full time</td>\n      <td>Data Analyst</td>\n      <td>46426</td>\n      <td>Slovenia</td>\n      <td>Slovenia</td>\n    </tr>\n    <tr>\n      <th>4</th>\n      <td>2023</td>\n      <td>Internmediate</td>\n      <td>Full time</td>\n      <td>Data Analyst</td>\n      <td>38868</td>\n      <td>Slovenia</td>\n      <td>Slovenia</td>\n    </tr>\n    <tr>\n      <th>...</th>\n      <td>...</td>\n      <td>...</td>\n      <td>...</td>\n      <td>...</td>\n      <td>...</td>\n      <td>...</td>\n      <td>...</td>\n    </tr>\n    <tr>\n      <th>8097</th>\n      <td>2020</td>\n      <td>Expert</td>\n      <td>Full time</td>\n      <td>Data Scientist</td>\n      <td>412000</td>\n      <td>United States</td>\n      <td>United States</td>\n    </tr>\n    <tr>\n      <th>8098</th>\n      <td>2021</td>\n      <td>Internmediate</td>\n      <td>Full time</td>\n      <td>Principal Data Scientist</td>\n      <td>151000</td>\n      <td>United States</td>\n      <td>United States</td>\n    </tr>\n    <tr>\n      <th>8099</th>\n      <td>2020</td>\n      <td>Junior</td>\n      <td>Full time</td>\n      <td>Data Scientist</td>\n      <td>105000</td>\n      <td>United States</td>\n      <td>United States</td>\n    </tr>\n    <tr>\n      <th>8100</th>\n      <td>2020</td>\n      <td>Junior</td>\n      <td>Contract</td>\n      <td>Business Data Analyst</td>\n      <td>100000</td>\n      <td>United States</td>\n      <td>United States</td>\n    </tr>\n    <tr>\n      <th>8101</th>\n      <td>2021</td>\n      <td>Expert</td>\n      <td>Full time</td>\n      <td>Data Science Manager</td>\n      <td>94665</td>\n      <td>India</td>\n      <td>India</td>\n    </tr>\n  </tbody>\n</table>\n<p>8102 rows × 7 columns</p>\n</div>"
     },
     "execution_count": 185,
     "metadata": {},
     "output_type": "execute_result"
    }
   ],
   "source": [
    "data_2021_2023_copy['experience_level'] = data_2021_2023_copy['experience_level']\\\n",
    "    .replace('EN', 'Junior')\\\n",
    "    .replace('MI', 'Internmediate')\\\n",
    "    .replace('SE', 'Expert')\\\n",
    "    .replace('EX', 'Director')\n",
    "data_2021_2023_copy"
   ],
   "metadata": {
    "collapsed": false,
    "ExecuteTime": {
     "end_time": "2023-10-26T09:10:17.646628500Z",
     "start_time": "2023-10-26T09:10:17.451727300Z"
    }
   },
   "id": "3c4959d507caac6"
  },
  {
   "cell_type": "code",
   "execution_count": 186,
   "outputs": [],
   "source": [
    "#cleaning dtype\n",
    "data_2017_2020_copy = data_2017_2020_copy.copy()\n",
    "data_2017_2020_copy['SalaryUSD'] = data_2017_2020_copy['SalaryUSD'].apply(lambda x : x.replace(\"$\", \"\"))\n",
    "data_2017_2020_copy['SalaryUSD'] = data_2017_2020_copy['SalaryUSD'].apply(lambda x : x.replace(\",\", \"\"))\n",
    "data_2017_2020_copy['SalaryUSD'] = data_2017_2020_copy['SalaryUSD'].apply(lambda x : x.replace(\" \", \"\"))\n",
    "data_2017_2020_copy['SalaryUSD'] = data_2017_2020_copy['SalaryUSD'].apply(lambda x : x.replace(\".\", \"\"))\n",
    "data_2017_2020_copy['SalaryUSD'] = data_2017_2020_copy['SalaryUSD'].apply(lambda x : x.replace(\".00\", \"\"))"
   ],
   "metadata": {
    "collapsed": false,
    "ExecuteTime": {
     "end_time": "2023-10-26T09:10:18.297585600Z",
     "start_time": "2023-10-26T09:10:18.137511200Z"
    }
   },
   "id": "5f9fecc46fd3e10e"
  },
  {
   "cell_type": "code",
   "execution_count": 187,
   "outputs": [
    {
     "data": {
      "text/plain": "dtype('int32')"
     },
     "execution_count": 187,
     "metadata": {},
     "output_type": "execute_result"
    }
   ],
   "source": [
    "# convert object in int\n",
    "data_2017_2020_copy['SalaryUSD'] = data_2017_2020_copy['SalaryUSD'].astype(int).copy()\n",
    "data_2017_2020_copy['SalaryUSD'].dtypes"
   ],
   "metadata": {
    "collapsed": false,
    "ExecuteTime": {
     "end_time": "2023-10-26T09:10:18.660417400Z",
     "start_time": "2023-10-26T09:10:18.538082600Z"
    }
   },
   "id": "461e3d2aff4951d5"
  },
  {
   "cell_type": "code",
   "execution_count": 188,
   "outputs": [
    {
     "data": {
      "text/plain": "array(['DBA', 'Other', 'Developer: App code (C#, JS, etc)', 'Engineer',\n       'Developer: T-SQL',\n       'Developer: Business Intelligence (SSRS, PowerBI, etc)',\n       'Architect', 'Analyst', 'Manager', 'Data Scientist',\n       'Principal database engineer', 'DevOps, Sr Software Engineer DBA',\n       'Technician ', 'Database Specialist', 'Consultant',\n       'Systems Administrator', 'Sales', 'DBA / BI Developer',\n       'Sr Consultant ', 'Analytics consultant',\n       'DBA (General - splits time evenly between writing & tuning queries AND building & troubleshooting servers)',\n       'DBA (Development Focus - tunes queries, indexes, does deployments)',\n       'DBA (Production Focus - build & troubleshoot servers, HA/DR)'],\n      dtype=object)"
     },
     "execution_count": 188,
     "metadata": {},
     "output_type": "execute_result"
    }
   ],
   "source": [
    "data_2017_2020_copy.loc[:,'JobTitle'].unique()"
   ],
   "metadata": {
    "collapsed": false,
    "ExecuteTime": {
     "end_time": "2023-10-26T09:10:18.912542400Z",
     "start_time": "2023-10-26T09:10:18.873640700Z"
    }
   },
   "id": "a54788c178b93d06"
  },
  {
   "cell_type": "code",
   "execution_count": 189,
   "outputs": [
    {
     "data": {
      "text/plain": "array(['DBA', 'Other', 'Developer: App code (C#, JS, etc)',\n       'Data Engineer', 'Developer: T-SQL', 'BI Developer',\n       'Data Architect', 'Data Analyst', 'Data Manager', 'Data Scientist',\n       'Principal database engineer', 'DevOps, Sr Software Engineer DBA',\n       'Technician ', 'Database Specialist', 'Consultant',\n       'Systems Administrator', 'Sales', 'DBA / BI Developer',\n       'Sr Consultant ', 'Analytics consultant',\n       'DBA (General - splits time evenly between writing & tuning queries AND building & troubleshooting servers)',\n       'DBA (Development Focus - tunes queries, indexes, does deployments)',\n       'DBA (Production Focus - build & troubleshoot servers, HA/DR)'],\n      dtype=object)"
     },
     "execution_count": 189,
     "metadata": {},
     "output_type": "execute_result"
    }
   ],
   "source": [
    "data_2017_2020_copy.loc[:, \"JobTitle\"] = (data_2017_2020_copy.loc[:, \"JobTitle\"]\n",
    "       .replace(\"Engineer\", \"Data Engineer\")\\\n",
    "       .replace(\"Analyst\", \"Data Analyst\")\\\n",
    "       .replace(\"Architect\", \"Data Architect\")\\\n",
    "       .replace(\"Manager\", \"Data Manager\")\\\n",
    "       .replace(\"Developer: Business Intelligence (SSRS, PowerBI, etc)\", \"BI Developer\" ))\n",
    "data_2017_2020_copy.loc[:, \"JobTitle\"].unique()"
   ],
   "metadata": {
    "collapsed": false,
    "ExecuteTime": {
     "end_time": "2023-10-26T09:10:19.354264400Z",
     "start_time": "2023-10-26T09:10:19.244845400Z"
    }
   },
   "id": "e64ea020fa9e5ec"
  },
  {
   "cell_type": "code",
   "execution_count": 190,
   "outputs": [],
   "source": [
    "retained_values = [\"Data Engineer\", \"BI Developer\", \"Data Architect\", \"Data Analyst\", \"Data Manager\", \"Data Scientist\"]"
   ],
   "metadata": {
    "collapsed": false,
    "ExecuteTime": {
     "end_time": "2023-10-26T09:10:19.729410200Z",
     "start_time": "2023-10-26T09:10:19.615707900Z"
    }
   },
   "id": "6d4ecf0163000b6e"
  },
  {
   "cell_type": "code",
   "execution_count": 191,
   "outputs": [],
   "source": [
    "data_2017_2020_copy.loc[:,'JobTitle'] = data_2017_2020_copy.loc[:,'JobTitle'].apply(lambda x: x if x in retained_values else 'Other')"
   ],
   "metadata": {
    "collapsed": false,
    "ExecuteTime": {
     "end_time": "2023-10-26T09:10:19.948370900Z",
     "start_time": "2023-10-26T09:10:19.919814800Z"
    }
   },
   "id": "16e7138c8decd340"
  },
  {
   "cell_type": "code",
   "execution_count": 192,
   "outputs": [
    {
     "data": {
      "text/plain": "array(['Other', 'Data Engineer', 'BI Developer', 'Data Architect',\n       'Data Analyst', 'Data Manager', 'Data Scientist'], dtype=object)"
     },
     "execution_count": 192,
     "metadata": {},
     "output_type": "execute_result"
    }
   ],
   "source": [
    "data_2017_2020_copy.loc[:,'JobTitle'].unique()"
   ],
   "metadata": {
    "collapsed": false,
    "ExecuteTime": {
     "end_time": "2023-10-26T09:10:20.289502Z",
     "start_time": "2023-10-26T09:10:20.260247400Z"
    }
   },
   "id": "abb4a3fae8e274d0"
  },
  {
   "cell_type": "code",
   "execution_count": 193,
   "outputs": [
    {
     "data": {
      "text/plain": "array(['Other', 'BI Developer', 'Data Analyst', 'Data Engineer',\n       'Data Scientist', 'Data Architect', 'Data Manager'], dtype=object)"
     },
     "execution_count": 193,
     "metadata": {},
     "output_type": "execute_result"
    }
   ],
   "source": [
    "data_2021_2023_copy.loc[:,'job_title'] = data_2021_2023_copy.loc[:,'job_title'].apply(lambda x: x if x in retained_values else 'Other')\n",
    "data_2021_2023_copy.loc[:,'job_title'].unique()"
   ],
   "metadata": {
    "collapsed": false,
    "ExecuteTime": {
     "end_time": "2023-10-26T09:10:20.773818700Z",
     "start_time": "2023-10-26T09:10:20.679277100Z"
    }
   },
   "id": "7537073c33e264f6"
  },
  {
   "cell_type": "code",
   "execution_count": 194,
   "outputs": [
    {
     "data": {
      "text/plain": "array(['Other', 'BI Developer', 'Data Analyst', 'Data Engineer',\n       'Data Scientist', 'Data Architect', 'Data Manager'], dtype=object)"
     },
     "execution_count": 194,
     "metadata": {},
     "output_type": "execute_result"
    }
   ],
   "source": [
    "data_2021_2023_copy.loc[:,'job_title'].unique()"
   ],
   "metadata": {
    "collapsed": false,
    "ExecuteTime": {
     "end_time": "2023-10-26T09:10:21.203464100Z",
     "start_time": "2023-10-26T09:10:21.170607Z"
    }
   },
   "id": "e0423cc128e7f58d"
  },
  {
   "cell_type": "code",
   "execution_count": 195,
   "outputs": [],
   "source": [
    "data_2017_2020_copy['Survey Year'] = pd.to_datetime(data_2017_2020_copy['Survey Year'], format='%Y')"
   ],
   "metadata": {
    "collapsed": false,
    "ExecuteTime": {
     "end_time": "2023-10-26T09:10:21.718727700Z",
     "start_time": "2023-10-26T09:10:21.651371800Z"
    }
   },
   "id": "21859f3db30357bd"
  },
  {
   "cell_type": "markdown",
   "source": [],
   "metadata": {
    "collapsed": false
   },
   "id": "f46180229db05a7b"
  },
  {
   "cell_type": "code",
   "execution_count": 196,
   "outputs": [],
   "source": [
    "data_2021_2023_copy['work_year'] = pd.to_datetime(data_2021_2023_copy['work_year'], format='%Y')"
   ],
   "metadata": {
    "collapsed": false,
    "ExecuteTime": {
     "end_time": "2023-10-26T09:10:22.413001100Z",
     "start_time": "2023-10-26T09:10:22.386045900Z"
    }
   },
   "id": "83575149a0d80041"
  },
  {
   "cell_type": "code",
   "execution_count": 197,
   "outputs": [
    {
     "data": {
      "text/plain": "   work_year experience_level employment_type     job_title  salary_in_usd  \\\n0 2023-01-01           Expert       Full time         Other          70179   \n1 2023-01-01    Internmediate       Full time  BI Developer         110000   \n2 2023-01-01    Internmediate       Full time  BI Developer          75000   \n3 2023-01-01    Internmediate       Full time  Data Analyst          46426   \n4 2023-01-01    Internmediate       Full time  Data Analyst          38868   \n\n  employee_residence        Country  \n0              Italy  United States  \n1      United States  United States  \n2      United States  United States  \n3           Slovenia       Slovenia  \n4           Slovenia       Slovenia  ",
      "text/html": "<div>\n<style scoped>\n    .dataframe tbody tr th:only-of-type {\n        vertical-align: middle;\n    }\n\n    .dataframe tbody tr th {\n        vertical-align: top;\n    }\n\n    .dataframe thead th {\n        text-align: right;\n    }\n</style>\n<table border=\"1\" class=\"dataframe\">\n  <thead>\n    <tr style=\"text-align: right;\">\n      <th></th>\n      <th>work_year</th>\n      <th>experience_level</th>\n      <th>employment_type</th>\n      <th>job_title</th>\n      <th>salary_in_usd</th>\n      <th>employee_residence</th>\n      <th>Country</th>\n    </tr>\n  </thead>\n  <tbody>\n    <tr>\n      <th>0</th>\n      <td>2023-01-01</td>\n      <td>Expert</td>\n      <td>Full time</td>\n      <td>Other</td>\n      <td>70179</td>\n      <td>Italy</td>\n      <td>United States</td>\n    </tr>\n    <tr>\n      <th>1</th>\n      <td>2023-01-01</td>\n      <td>Internmediate</td>\n      <td>Full time</td>\n      <td>BI Developer</td>\n      <td>110000</td>\n      <td>United States</td>\n      <td>United States</td>\n    </tr>\n    <tr>\n      <th>2</th>\n      <td>2023-01-01</td>\n      <td>Internmediate</td>\n      <td>Full time</td>\n      <td>BI Developer</td>\n      <td>75000</td>\n      <td>United States</td>\n      <td>United States</td>\n    </tr>\n    <tr>\n      <th>3</th>\n      <td>2023-01-01</td>\n      <td>Internmediate</td>\n      <td>Full time</td>\n      <td>Data Analyst</td>\n      <td>46426</td>\n      <td>Slovenia</td>\n      <td>Slovenia</td>\n    </tr>\n    <tr>\n      <th>4</th>\n      <td>2023-01-01</td>\n      <td>Internmediate</td>\n      <td>Full time</td>\n      <td>Data Analyst</td>\n      <td>38868</td>\n      <td>Slovenia</td>\n      <td>Slovenia</td>\n    </tr>\n  </tbody>\n</table>\n</div>"
     },
     "execution_count": 197,
     "metadata": {},
     "output_type": "execute_result"
    }
   ],
   "source": [
    "data_2021_2023_copy.head()"
   ],
   "metadata": {
    "collapsed": false,
    "ExecuteTime": {
     "end_time": "2023-10-26T09:10:22.874820700Z",
     "start_time": "2023-10-26T09:10:22.803018700Z"
    }
   },
   "id": "7362e26a498be65a"
  },
  {
   "cell_type": "code",
   "execution_count": 198,
   "outputs": [
    {
     "data": {
      "text/plain": "  Survey Year  SalaryUSD         Country EmploymentStatus JobTitle\n0  2017-01-01     200000   United States        Full time    Other\n1  2017-01-01      61515  United Kingdom        Full time    Other\n2  2017-01-01      95000         Germany        Full time    Other\n3  2017-01-01      56000  United Kingdom        Full time    Other\n4  2017-01-01      35000          France        Full time    Other",
      "text/html": "<div>\n<style scoped>\n    .dataframe tbody tr th:only-of-type {\n        vertical-align: middle;\n    }\n\n    .dataframe tbody tr th {\n        vertical-align: top;\n    }\n\n    .dataframe thead th {\n        text-align: right;\n    }\n</style>\n<table border=\"1\" class=\"dataframe\">\n  <thead>\n    <tr style=\"text-align: right;\">\n      <th></th>\n      <th>Survey Year</th>\n      <th>SalaryUSD</th>\n      <th>Country</th>\n      <th>EmploymentStatus</th>\n      <th>JobTitle</th>\n    </tr>\n  </thead>\n  <tbody>\n    <tr>\n      <th>0</th>\n      <td>2017-01-01</td>\n      <td>200000</td>\n      <td>United States</td>\n      <td>Full time</td>\n      <td>Other</td>\n    </tr>\n    <tr>\n      <th>1</th>\n      <td>2017-01-01</td>\n      <td>61515</td>\n      <td>United Kingdom</td>\n      <td>Full time</td>\n      <td>Other</td>\n    </tr>\n    <tr>\n      <th>2</th>\n      <td>2017-01-01</td>\n      <td>95000</td>\n      <td>Germany</td>\n      <td>Full time</td>\n      <td>Other</td>\n    </tr>\n    <tr>\n      <th>3</th>\n      <td>2017-01-01</td>\n      <td>56000</td>\n      <td>United Kingdom</td>\n      <td>Full time</td>\n      <td>Other</td>\n    </tr>\n    <tr>\n      <th>4</th>\n      <td>2017-01-01</td>\n      <td>35000</td>\n      <td>France</td>\n      <td>Full time</td>\n      <td>Other</td>\n    </tr>\n  </tbody>\n</table>\n</div>"
     },
     "execution_count": 198,
     "metadata": {},
     "output_type": "execute_result"
    }
   ],
   "source": [
    "data_2017_2020_copy.head()"
   ],
   "metadata": {
    "collapsed": false,
    "ExecuteTime": {
     "end_time": "2023-10-26T09:10:23.433505400Z",
     "start_time": "2023-10-26T09:10:23.293738100Z"
    }
   },
   "id": "f517632124155161"
  },
  {
   "cell_type": "code",
   "execution_count": 199,
   "outputs": [],
   "source": [
    "data_2017_2020_copy = data_2017_2020_copy.rename(columns={\"Survey Year\": \"work_year\", \"SalaryUSD\": \"salary_in_usd\", \"EmploymentStatus\" : \"employment_type\", \"JobTitle\": \"job_title\"})"
   ],
   "metadata": {
    "collapsed": false,
    "ExecuteTime": {
     "end_time": "2023-10-26T09:10:23.752052200Z",
     "start_time": "2023-10-26T09:10:23.647723200Z"
    }
   },
   "id": "cb4393d148971700"
  },
  {
   "cell_type": "code",
   "execution_count": 200,
   "outputs": [],
   "source": [
    "data_2017_2023 = pd.concat([data_2017_2020_copy, data_2021_2023_copy], axis =0)\n"
   ],
   "metadata": {
    "collapsed": false,
    "ExecuteTime": {
     "end_time": "2023-10-26T09:10:24.082177600Z",
     "start_time": "2023-10-26T09:10:23.985961Z"
    }
   },
   "id": "870f64dea749b658"
  },
  {
   "cell_type": "code",
   "execution_count": 202,
   "outputs": [],
   "source": [
    "data_2017_2023.to_csv(\"Salary_2017_2023.csv\")"
   ],
   "metadata": {
    "collapsed": false,
    "ExecuteTime": {
     "end_time": "2023-10-26T09:10:36.046225Z",
     "start_time": "2023-10-26T09:10:35.902020300Z"
    }
   },
   "id": "ed42fb8da2e59b43"
  }
 ],
 "metadata": {
  "kernelspec": {
   "display_name": "Python 3",
   "language": "python",
   "name": "python3"
  },
  "language_info": {
   "codemirror_mode": {
    "name": "ipython",
    "version": 2
   },
   "file_extension": ".py",
   "mimetype": "text/x-python",
   "name": "python",
   "nbconvert_exporter": "python",
   "pygments_lexer": "ipython2",
   "version": "2.7.6"
  }
 },
 "nbformat": 4,
 "nbformat_minor": 5
}
