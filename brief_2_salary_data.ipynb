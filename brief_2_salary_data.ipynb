{
 "cells": [
  {
   "cell_type": "code",
   "execution_count": 9,
   "id": "initial_id",
   "metadata": {
    "collapsed": true,
    "ExecuteTime": {
     "end_time": "2023-10-26T17:24:23.654246600Z",
     "start_time": "2023-10-26T17:24:22.674958400Z"
    }
   },
   "outputs": [],
   "source": [
    "import matplotlib.pyplot as plt\n",
    "import pandas as pd\n",
    "import pycountry\n",
    "import seaborn as sns\n",
    "\n",
    "data_2021_2023 = pd.read_csv('Data/salaries.csv')\n",
    "data_2017_2020 = pd.read_csv('Data/2019_Data_Professional_Salary_Survey_Responses.csv')"
   ]
  },
  {
   "cell_type": "code",
   "execution_count": 10,
   "outputs": [
    {
     "data": {
      "text/plain": "   work_year experience_level employment_type                  job_title  \\\n0       2023               SE              FT  Machine Learning Engineer   \n1       2023               MI              FT               BI Developer   \n2       2023               MI              FT               BI Developer   \n3       2023               MI              FT               Data Analyst   \n4       2023               MI              FT               Data Analyst   \n\n   salary_in_usd employee_residence company_location  \n0          70179                 IT               US  \n1         110000                 US               US  \n2          75000                 US               US  \n3          46426                 SI               SI  \n4          38868                 SI               SI  ",
      "text/html": "<div>\n<style scoped>\n    .dataframe tbody tr th:only-of-type {\n        vertical-align: middle;\n    }\n\n    .dataframe tbody tr th {\n        vertical-align: top;\n    }\n\n    .dataframe thead th {\n        text-align: right;\n    }\n</style>\n<table border=\"1\" class=\"dataframe\">\n  <thead>\n    <tr style=\"text-align: right;\">\n      <th></th>\n      <th>work_year</th>\n      <th>experience_level</th>\n      <th>employment_type</th>\n      <th>job_title</th>\n      <th>salary_in_usd</th>\n      <th>employee_residence</th>\n      <th>company_location</th>\n    </tr>\n  </thead>\n  <tbody>\n    <tr>\n      <th>0</th>\n      <td>2023</td>\n      <td>SE</td>\n      <td>FT</td>\n      <td>Machine Learning Engineer</td>\n      <td>70179</td>\n      <td>IT</td>\n      <td>US</td>\n    </tr>\n    <tr>\n      <th>1</th>\n      <td>2023</td>\n      <td>MI</td>\n      <td>FT</td>\n      <td>BI Developer</td>\n      <td>110000</td>\n      <td>US</td>\n      <td>US</td>\n    </tr>\n    <tr>\n      <th>2</th>\n      <td>2023</td>\n      <td>MI</td>\n      <td>FT</td>\n      <td>BI Developer</td>\n      <td>75000</td>\n      <td>US</td>\n      <td>US</td>\n    </tr>\n    <tr>\n      <th>3</th>\n      <td>2023</td>\n      <td>MI</td>\n      <td>FT</td>\n      <td>Data Analyst</td>\n      <td>46426</td>\n      <td>SI</td>\n      <td>SI</td>\n    </tr>\n    <tr>\n      <th>4</th>\n      <td>2023</td>\n      <td>MI</td>\n      <td>FT</td>\n      <td>Data Analyst</td>\n      <td>38868</td>\n      <td>SI</td>\n      <td>SI</td>\n    </tr>\n  </tbody>\n</table>\n</div>"
     },
     "execution_count": 10,
     "metadata": {},
     "output_type": "execute_result"
    }
   ],
   "source": [
    "data_2021_2023_copy = data_2021_2023.copy()\n",
    "data_2021_2023_copy = data_2021_2023_copy.drop(\n",
    "    [\"company_size\", \"remote_ratio\", \"salary_currency\", \"company_size\", \"salary\"], axis=1)\n",
    "data_2021_2023_copy.head()"
   ],
   "metadata": {
    "collapsed": false,
    "ExecuteTime": {
     "end_time": "2023-10-26T17:24:23.674020300Z",
     "start_time": "2023-10-26T17:24:23.654246600Z"
    }
   },
   "id": "13a6b79b4b4cd134"
  },
  {
   "cell_type": "code",
   "execution_count": 11,
   "outputs": [],
   "source": [
    "  #copy de dataframe 2017-2020\n",
    "data_2017_2020_copy = data_2017_2020.copy()"
   ],
   "metadata": {
    "collapsed": false,
    "ExecuteTime": {
     "end_time": "2023-10-26T17:24:23.954084100Z",
     "start_time": "2023-10-26T17:24:23.944444200Z"
    }
   },
   "id": "1dabfe0c85f54509"
  },
  {
   "cell_type": "code",
   "execution_count": 12,
   "outputs": [
    {
     "data": {
      "text/plain": "      Survey Year SalaryUSD         Country  \\\n0            2017    200000   United States   \n1            2017     61515  United Kingdom   \n2            2017     95000         Germany   \n3            2017     56000  United Kingdom   \n4            2017     35000          France   \n...           ...       ...             ...   \n6888         2019     32000         Hungary   \n6889         2019     32000         Hungary   \n6890         2019     40000        Portugal   \n6891         2019    130000   United States   \n6892         2019     84500          Canada   \n\n                                       EmploymentStatus  \\\n0                                    Full time employee   \n1                                    Full time employee   \n2                                    Full time employee   \n3                                    Full time employee   \n4     Full time employee of a consulting/contracting...   \n...                                                 ...   \n6888                                 Full time employee   \n6889                                 Full time employee   \n6890  Full time employee of a consulting/contracting...   \n6891  Full time employee of a consulting/contracting...   \n6892                                 Full time employee   \n\n                                               JobTitle  \n0                                                   DBA  \n1                                                   DBA  \n2                                                 Other  \n3                                                   DBA  \n4                                                   DBA  \n...                                                 ...  \n6888  DBA (General - splits time evenly between writ...  \n6889  DBA (General - splits time evenly between writ...  \n6890                  Developer: App code (C#, JS, etc)  \n6891  DBA (General - splits time evenly between writ...  \n6892                                          Architect  \n\n[6893 rows x 5 columns]",
      "text/html": "<div>\n<style scoped>\n    .dataframe tbody tr th:only-of-type {\n        vertical-align: middle;\n    }\n\n    .dataframe tbody tr th {\n        vertical-align: top;\n    }\n\n    .dataframe thead th {\n        text-align: right;\n    }\n</style>\n<table border=\"1\" class=\"dataframe\">\n  <thead>\n    <tr style=\"text-align: right;\">\n      <th></th>\n      <th>Survey Year</th>\n      <th>SalaryUSD</th>\n      <th>Country</th>\n      <th>EmploymentStatus</th>\n      <th>JobTitle</th>\n    </tr>\n  </thead>\n  <tbody>\n    <tr>\n      <th>0</th>\n      <td>2017</td>\n      <td>200000</td>\n      <td>United States</td>\n      <td>Full time employee</td>\n      <td>DBA</td>\n    </tr>\n    <tr>\n      <th>1</th>\n      <td>2017</td>\n      <td>61515</td>\n      <td>United Kingdom</td>\n      <td>Full time employee</td>\n      <td>DBA</td>\n    </tr>\n    <tr>\n      <th>2</th>\n      <td>2017</td>\n      <td>95000</td>\n      <td>Germany</td>\n      <td>Full time employee</td>\n      <td>Other</td>\n    </tr>\n    <tr>\n      <th>3</th>\n      <td>2017</td>\n      <td>56000</td>\n      <td>United Kingdom</td>\n      <td>Full time employee</td>\n      <td>DBA</td>\n    </tr>\n    <tr>\n      <th>4</th>\n      <td>2017</td>\n      <td>35000</td>\n      <td>France</td>\n      <td>Full time employee of a consulting/contracting...</td>\n      <td>DBA</td>\n    </tr>\n    <tr>\n      <th>...</th>\n      <td>...</td>\n      <td>...</td>\n      <td>...</td>\n      <td>...</td>\n      <td>...</td>\n    </tr>\n    <tr>\n      <th>6888</th>\n      <td>2019</td>\n      <td>32000</td>\n      <td>Hungary</td>\n      <td>Full time employee</td>\n      <td>DBA (General - splits time evenly between writ...</td>\n    </tr>\n    <tr>\n      <th>6889</th>\n      <td>2019</td>\n      <td>32000</td>\n      <td>Hungary</td>\n      <td>Full time employee</td>\n      <td>DBA (General - splits time evenly between writ...</td>\n    </tr>\n    <tr>\n      <th>6890</th>\n      <td>2019</td>\n      <td>40000</td>\n      <td>Portugal</td>\n      <td>Full time employee of a consulting/contracting...</td>\n      <td>Developer: App code (C#, JS, etc)</td>\n    </tr>\n    <tr>\n      <th>6891</th>\n      <td>2019</td>\n      <td>130000</td>\n      <td>United States</td>\n      <td>Full time employee of a consulting/contracting...</td>\n      <td>DBA (General - splits time evenly between writ...</td>\n    </tr>\n    <tr>\n      <th>6892</th>\n      <td>2019</td>\n      <td>84500</td>\n      <td>Canada</td>\n      <td>Full time employee</td>\n      <td>Architect</td>\n    </tr>\n  </tbody>\n</table>\n<p>6893 rows × 5 columns</p>\n</div>"
     },
     "execution_count": 12,
     "metadata": {},
     "output_type": "execute_result"
    }
   ],
   "source": [
    "data_2017_2020_copy = data_2017_2020_copy.drop(['Timestamp', 'PostalCode',\n",
    "                                                'PrimaryDatabase', 'YearsWithThisDatabase', 'OtherDatabases',\n",
    "                                                'ManageStaff', 'YearsWithThisTypeOfJob',\n",
    "                                                'HowManyCompanies', 'OtherPeopleOnYourTeam', 'CompanyEmployeesOverall',\n",
    "                                                'DatabaseServers', 'Education', 'EducationIsComputerRelated',\n",
    "                                                'Certifications', 'HoursWorkedPerWeek', 'TelecommuteDaysPerWeek',\n",
    "                                                'PopulationOfLargestCityWithin20Miles',\n",
    "                                                'LookingForAnotherJob', 'CareerPlansThisYear', 'Gender',\n",
    "                                                'OtherJobDuties', 'KindsOfTasksPerformed', 'Counter',\n",
    "                                                'EmploymentSector'], axis=1)\n",
    "data_2017_2020_copy"
   ],
   "metadata": {
    "collapsed": false,
    "ExecuteTime": {
     "end_time": "2023-10-26T17:24:24.689208700Z",
     "start_time": "2023-10-26T17:24:24.664102200Z"
    }
   },
   "id": "48451453184a11b9"
  },
  {
   "cell_type": "code",
   "execution_count": 12,
   "outputs": [],
   "source": [],
   "metadata": {
    "collapsed": false,
    "ExecuteTime": {
     "end_time": "2023-10-26T17:24:24.858789Z",
     "start_time": "2023-10-26T17:24:24.858789Z"
    }
   },
   "id": "85798d1542419db3"
  },
  {
   "cell_type": "code",
   "execution_count": 13,
   "outputs": [],
   "source": [
    "data_2017_2020_copy['EmploymentStatus'] = data_2017_2020_copy['EmploymentStatus'].copy()\n",
    "data_2017_2020_copy.loc[:, 'EmploymentStatus'] = data_2017_2020_copy['EmploymentStatus'].replace('Full time employee',\n",
    "                                                                                                 'Full time').replace(\n",
    "    'Full time employee of a consulting/contracting company', 'Full time').replace(\n",
    "    'Independent or freelancer or company owner', 'Freelance').replace(\n",
    "    'Independent consultant, contractor, freelancer,  or company owner', 'Contract')"
   ],
   "metadata": {
    "collapsed": false,
    "ExecuteTime": {
     "end_time": "2023-10-26T17:24:25.021745700Z",
     "start_time": "2023-10-26T17:24:24.994216900Z"
    }
   },
   "id": "797ecd3eaa0d58db"
  },
  {
   "cell_type": "code",
   "execution_count": 14,
   "outputs": [],
   "source": [
    "data_2021_2023_copy['employment_type'] = data_2021_2023_copy['employment_type'].copy()\n",
    "data_2021_2023_copy.loc[:, 'employment_type'] = data_2021_2023_copy['employment_type'].replace('FT',\n",
    "                                                                                               'Full time').replace(\n",
    "    'CT', 'Contract').replace('PT', 'Part time').replace('FL', 'Freelance')"
   ],
   "metadata": {
    "collapsed": false,
    "ExecuteTime": {
     "end_time": "2023-10-26T17:24:25.174183100Z",
     "start_time": "2023-10-26T17:24:25.164040900Z"
    }
   },
   "id": "86cce5affe51a51"
  },
  {
   "cell_type": "code",
   "execution_count": 15,
   "outputs": [],
   "source": [
    "def get_country_name(initial):\n",
    "    try:\n",
    "        country = pycountry.countries.get(alpha_2=initial)\n",
    "        return country.name\n",
    "    except AttributeError:\n",
    "        return initial"
   ],
   "metadata": {
    "collapsed": false,
    "ExecuteTime": {
     "end_time": "2023-10-26T17:24:25.384256600Z",
     "start_time": "2023-10-26T17:24:25.375218800Z"
    }
   },
   "id": "179dcaebd542242f"
  },
  {
   "cell_type": "code",
   "execution_count": 16,
   "outputs": [
    {
     "data": {
      "text/plain": "   work_year experience_level employment_type                  job_title  \\\n0       2023               SE       Full time  Machine Learning Engineer   \n1       2023               MI       Full time               BI Developer   \n2       2023               MI       Full time               BI Developer   \n3       2023               MI       Full time               Data Analyst   \n4       2023               MI       Full time               Data Analyst   \n\n   salary_in_usd employee_residence        Country  \n0          70179              Italy  United States  \n1         110000      United States  United States  \n2          75000      United States  United States  \n3          46426           Slovenia       Slovenia  \n4          38868           Slovenia       Slovenia  ",
      "text/html": "<div>\n<style scoped>\n    .dataframe tbody tr th:only-of-type {\n        vertical-align: middle;\n    }\n\n    .dataframe tbody tr th {\n        vertical-align: top;\n    }\n\n    .dataframe thead th {\n        text-align: right;\n    }\n</style>\n<table border=\"1\" class=\"dataframe\">\n  <thead>\n    <tr style=\"text-align: right;\">\n      <th></th>\n      <th>work_year</th>\n      <th>experience_level</th>\n      <th>employment_type</th>\n      <th>job_title</th>\n      <th>salary_in_usd</th>\n      <th>employee_residence</th>\n      <th>Country</th>\n    </tr>\n  </thead>\n  <tbody>\n    <tr>\n      <th>0</th>\n      <td>2023</td>\n      <td>SE</td>\n      <td>Full time</td>\n      <td>Machine Learning Engineer</td>\n      <td>70179</td>\n      <td>Italy</td>\n      <td>United States</td>\n    </tr>\n    <tr>\n      <th>1</th>\n      <td>2023</td>\n      <td>MI</td>\n      <td>Full time</td>\n      <td>BI Developer</td>\n      <td>110000</td>\n      <td>United States</td>\n      <td>United States</td>\n    </tr>\n    <tr>\n      <th>2</th>\n      <td>2023</td>\n      <td>MI</td>\n      <td>Full time</td>\n      <td>BI Developer</td>\n      <td>75000</td>\n      <td>United States</td>\n      <td>United States</td>\n    </tr>\n    <tr>\n      <th>3</th>\n      <td>2023</td>\n      <td>MI</td>\n      <td>Full time</td>\n      <td>Data Analyst</td>\n      <td>46426</td>\n      <td>Slovenia</td>\n      <td>Slovenia</td>\n    </tr>\n    <tr>\n      <th>4</th>\n      <td>2023</td>\n      <td>MI</td>\n      <td>Full time</td>\n      <td>Data Analyst</td>\n      <td>38868</td>\n      <td>Slovenia</td>\n      <td>Slovenia</td>\n    </tr>\n  </tbody>\n</table>\n</div>"
     },
     "execution_count": 16,
     "metadata": {},
     "output_type": "execute_result"
    }
   ],
   "source": [
    "data_2021_2023_copy['company_location'] = data_2021_2023_copy['company_location'].apply(get_country_name)\n",
    "data_2021_2023_copy.rename(columns={'company_location': 'Country'}, inplace=True)\n",
    "\n",
    "data_2021_2023_copy['employee_residence'] = data_2021_2023_copy['employee_residence'].apply(get_country_name)\n",
    "data_2021_2023_copy.head()"
   ],
   "metadata": {
    "collapsed": false,
    "ExecuteTime": {
     "end_time": "2023-10-26T17:24:25.592554Z",
     "start_time": "2023-10-26T17:24:25.536340900Z"
    }
   },
   "id": "7a0348422eab4bde"
  },
  {
   "cell_type": "code",
   "execution_count": 17,
   "outputs": [
    {
     "data": {
      "text/plain": "      work_year experience_level employment_type                  job_title  \\\n0          2023           Expert       Full time  Machine Learning Engineer   \n1          2023    Internmediate       Full time               BI Developer   \n2          2023    Internmediate       Full time               BI Developer   \n3          2023    Internmediate       Full time               Data Analyst   \n4          2023    Internmediate       Full time               Data Analyst   \n...         ...              ...             ...                        ...   \n8097       2020           Expert       Full time             Data Scientist   \n8098       2021    Internmediate       Full time   Principal Data Scientist   \n8099       2020           Junior       Full time             Data Scientist   \n8100       2020           Junior        Contract      Business Data Analyst   \n8101       2021           Expert       Full time       Data Science Manager   \n\n      salary_in_usd employee_residence        Country  \n0             70179              Italy  United States  \n1            110000      United States  United States  \n2             75000      United States  United States  \n3             46426           Slovenia       Slovenia  \n4             38868           Slovenia       Slovenia  \n...             ...                ...            ...  \n8097         412000      United States  United States  \n8098         151000      United States  United States  \n8099         105000      United States  United States  \n8100         100000      United States  United States  \n8101          94665              India          India  \n\n[8102 rows x 7 columns]",
      "text/html": "<div>\n<style scoped>\n    .dataframe tbody tr th:only-of-type {\n        vertical-align: middle;\n    }\n\n    .dataframe tbody tr th {\n        vertical-align: top;\n    }\n\n    .dataframe thead th {\n        text-align: right;\n    }\n</style>\n<table border=\"1\" class=\"dataframe\">\n  <thead>\n    <tr style=\"text-align: right;\">\n      <th></th>\n      <th>work_year</th>\n      <th>experience_level</th>\n      <th>employment_type</th>\n      <th>job_title</th>\n      <th>salary_in_usd</th>\n      <th>employee_residence</th>\n      <th>Country</th>\n    </tr>\n  </thead>\n  <tbody>\n    <tr>\n      <th>0</th>\n      <td>2023</td>\n      <td>Expert</td>\n      <td>Full time</td>\n      <td>Machine Learning Engineer</td>\n      <td>70179</td>\n      <td>Italy</td>\n      <td>United States</td>\n    </tr>\n    <tr>\n      <th>1</th>\n      <td>2023</td>\n      <td>Internmediate</td>\n      <td>Full time</td>\n      <td>BI Developer</td>\n      <td>110000</td>\n      <td>United States</td>\n      <td>United States</td>\n    </tr>\n    <tr>\n      <th>2</th>\n      <td>2023</td>\n      <td>Internmediate</td>\n      <td>Full time</td>\n      <td>BI Developer</td>\n      <td>75000</td>\n      <td>United States</td>\n      <td>United States</td>\n    </tr>\n    <tr>\n      <th>3</th>\n      <td>2023</td>\n      <td>Internmediate</td>\n      <td>Full time</td>\n      <td>Data Analyst</td>\n      <td>46426</td>\n      <td>Slovenia</td>\n      <td>Slovenia</td>\n    </tr>\n    <tr>\n      <th>4</th>\n      <td>2023</td>\n      <td>Internmediate</td>\n      <td>Full time</td>\n      <td>Data Analyst</td>\n      <td>38868</td>\n      <td>Slovenia</td>\n      <td>Slovenia</td>\n    </tr>\n    <tr>\n      <th>...</th>\n      <td>...</td>\n      <td>...</td>\n      <td>...</td>\n      <td>...</td>\n      <td>...</td>\n      <td>...</td>\n      <td>...</td>\n    </tr>\n    <tr>\n      <th>8097</th>\n      <td>2020</td>\n      <td>Expert</td>\n      <td>Full time</td>\n      <td>Data Scientist</td>\n      <td>412000</td>\n      <td>United States</td>\n      <td>United States</td>\n    </tr>\n    <tr>\n      <th>8098</th>\n      <td>2021</td>\n      <td>Internmediate</td>\n      <td>Full time</td>\n      <td>Principal Data Scientist</td>\n      <td>151000</td>\n      <td>United States</td>\n      <td>United States</td>\n    </tr>\n    <tr>\n      <th>8099</th>\n      <td>2020</td>\n      <td>Junior</td>\n      <td>Full time</td>\n      <td>Data Scientist</td>\n      <td>105000</td>\n      <td>United States</td>\n      <td>United States</td>\n    </tr>\n    <tr>\n      <th>8100</th>\n      <td>2020</td>\n      <td>Junior</td>\n      <td>Contract</td>\n      <td>Business Data Analyst</td>\n      <td>100000</td>\n      <td>United States</td>\n      <td>United States</td>\n    </tr>\n    <tr>\n      <th>8101</th>\n      <td>2021</td>\n      <td>Expert</td>\n      <td>Full time</td>\n      <td>Data Science Manager</td>\n      <td>94665</td>\n      <td>India</td>\n      <td>India</td>\n    </tr>\n  </tbody>\n</table>\n<p>8102 rows × 7 columns</p>\n</div>"
     },
     "execution_count": 17,
     "metadata": {},
     "output_type": "execute_result"
    }
   ],
   "source": [
    "data_2021_2023_copy['experience_level'] = data_2021_2023_copy['experience_level'] \\\n",
    "    .replace('EN', 'Junior') \\\n",
    "    .replace('MI', 'Internmediate') \\\n",
    "    .replace('SE', 'Expert') \\\n",
    "    .replace('EX', 'Director')\n",
    "data_2021_2023_copy"
   ],
   "metadata": {
    "collapsed": false,
    "ExecuteTime": {
     "end_time": "2023-10-26T17:24:25.748113900Z",
     "start_time": "2023-10-26T17:24:25.708421600Z"
    }
   },
   "id": "3c4959d507caac6"
  },
  {
   "cell_type": "code",
   "execution_count": 18,
   "outputs": [],
   "source": [
    "#cleaning dtype\n",
    "data_2017_2020_copy = data_2017_2020_copy.copy()\n",
    "data_2017_2020_copy['SalaryUSD'] = data_2017_2020_copy['SalaryUSD'].apply(lambda x: x.replace(\"$\", \"\"))\n",
    "data_2017_2020_copy['SalaryUSD'] = data_2017_2020_copy['SalaryUSD'].apply(lambda x: x.replace(\",\", \"\"))\n",
    "data_2017_2020_copy['SalaryUSD'] = data_2017_2020_copy['SalaryUSD'].apply(lambda x: x.replace(\" \", \"\"))\n",
    "data_2017_2020_copy['SalaryUSD'] = data_2017_2020_copy['SalaryUSD'].apply(lambda x: x.replace(\".\", \"\"))\n",
    "data_2017_2020_copy['SalaryUSD'] = data_2017_2020_copy['SalaryUSD'].apply(lambda x: x.replace(\".00\", \"\"))"
   ],
   "metadata": {
    "collapsed": false,
    "ExecuteTime": {
     "end_time": "2023-10-26T17:24:25.902265400Z",
     "start_time": "2023-10-26T17:24:25.864158600Z"
    }
   },
   "id": "5f9fecc46fd3e10e"
  },
  {
   "cell_type": "code",
   "execution_count": 19,
   "outputs": [
    {
     "data": {
      "text/plain": "dtype('int32')"
     },
     "execution_count": 19,
     "metadata": {},
     "output_type": "execute_result"
    }
   ],
   "source": [
    "# convert object in int\n",
    "data_2017_2020_copy['SalaryUSD'] = data_2017_2020_copy['SalaryUSD'].astype(int).copy()\n",
    "data_2017_2020_copy['SalaryUSD'].dtypes"
   ],
   "metadata": {
    "collapsed": false,
    "ExecuteTime": {
     "end_time": "2023-10-26T17:24:26.011747900Z",
     "start_time": "2023-10-26T17:24:25.986254400Z"
    }
   },
   "id": "461e3d2aff4951d5"
  },
  {
   "cell_type": "code",
   "execution_count": 20,
   "outputs": [
    {
     "data": {
      "text/plain": "array(['DBA', 'Other', 'Developer: App code (C#, JS, etc)', 'Engineer',\n       'Developer: T-SQL',\n       'Developer: Business Intelligence (SSRS, PowerBI, etc)',\n       'Architect', 'Analyst', 'Manager', 'Data Scientist',\n       'Principal database engineer', 'DevOps, Sr Software Engineer DBA',\n       'Technician ', 'Database Specialist', 'Consultant',\n       'Systems Administrator', 'Sales', 'DBA / BI Developer',\n       'Sr Consultant ', 'Analytics consultant',\n       'DBA (General - splits time evenly between writing & tuning queries AND building & troubleshooting servers)',\n       'DBA (Development Focus - tunes queries, indexes, does deployments)',\n       'DBA (Production Focus - build & troubleshoot servers, HA/DR)'],\n      dtype=object)"
     },
     "execution_count": 20,
     "metadata": {},
     "output_type": "execute_result"
    }
   ],
   "source": [
    "data_2017_2020_copy.loc[:, 'JobTitle'].unique()"
   ],
   "metadata": {
    "collapsed": false,
    "ExecuteTime": {
     "end_time": "2023-10-26T17:24:26.738792300Z",
     "start_time": "2023-10-26T17:24:26.732499700Z"
    }
   },
   "id": "a54788c178b93d06"
  },
  {
   "cell_type": "code",
   "execution_count": 21,
   "outputs": [
    {
     "data": {
      "text/plain": "array(['DBA', 'Other', 'Developer: App code (C#, JS, etc)',\n       'Data Engineer', 'Developer: T-SQL', 'BI Developer',\n       'Data Architect', 'Data Analyst', 'Data Manager', 'Data Scientist',\n       'Principal database engineer', 'DevOps, Sr Software Engineer DBA',\n       'Technician ', 'Database Specialist', 'Consultant',\n       'Systems Administrator', 'Sales', 'DBA / BI Developer',\n       'Sr Consultant ', 'Analytics consultant',\n       'DBA (General - splits time evenly between writing & tuning queries AND building & troubleshooting servers)',\n       'DBA (Development Focus - tunes queries, indexes, does deployments)',\n       'DBA (Production Focus - build & troubleshoot servers, HA/DR)'],\n      dtype=object)"
     },
     "execution_count": 21,
     "metadata": {},
     "output_type": "execute_result"
    }
   ],
   "source": [
    "data_2017_2020_copy.loc[:, \"JobTitle\"] = (data_2017_2020_copy.loc[:, \"JobTitle\"]\n",
    "                                          .replace(\"Engineer\", \"Data Engineer\") \\\n",
    "                                          .replace(\"Analyst\", \"Data Analyst\") \\\n",
    "                                          .replace(\"Architect\", \"Data Architect\") \\\n",
    "                                          .replace(\"Manager\", \"Data Manager\") \\\n",
    "                                          .replace(\"Developer: Business Intelligence (SSRS, PowerBI, etc)\",\n",
    "                                                   \"BI Developer\"))\n",
    "data_2017_2020_copy.loc[:, \"JobTitle\"].unique()"
   ],
   "metadata": {
    "collapsed": false,
    "ExecuteTime": {
     "end_time": "2023-10-26T17:24:27.166238700Z",
     "start_time": "2023-10-26T17:24:27.155034700Z"
    }
   },
   "id": "e64ea020fa9e5ec"
  },
  {
   "cell_type": "code",
   "execution_count": 22,
   "outputs": [],
   "source": [
    "retained_values = [\"Data Engineer\", \"BI Developer\", \"Data Architect\", \"Data Analyst\", \"Data Manager\", \"Data Scientist\"]"
   ],
   "metadata": {
    "collapsed": false,
    "ExecuteTime": {
     "end_time": "2023-10-26T17:24:27.776955500Z",
     "start_time": "2023-10-26T17:24:27.776955500Z"
    }
   },
   "id": "6d4ecf0163000b6e"
  },
  {
   "cell_type": "code",
   "execution_count": 23,
   "outputs": [],
   "source": [
    "data_2017_2020_copy.loc[:, 'JobTitle'] = data_2017_2020_copy.loc[:, 'JobTitle'].apply(\n",
    "    lambda x: x if x in retained_values else 'Other')"
   ],
   "metadata": {
    "collapsed": false,
    "ExecuteTime": {
     "end_time": "2023-10-26T17:24:28.544208900Z",
     "start_time": "2023-10-26T17:24:28.534350Z"
    }
   },
   "id": "16e7138c8decd340"
  },
  {
   "cell_type": "code",
   "execution_count": 24,
   "outputs": [
    {
     "data": {
      "text/plain": "array(['Other', 'Data Engineer', 'BI Developer', 'Data Architect',\n       'Data Analyst', 'Data Manager', 'Data Scientist'], dtype=object)"
     },
     "execution_count": 24,
     "metadata": {},
     "output_type": "execute_result"
    }
   ],
   "source": [
    "data_2017_2020_copy.loc[:, 'JobTitle'].unique()"
   ],
   "metadata": {
    "collapsed": false,
    "ExecuteTime": {
     "end_time": "2023-10-26T17:24:28.825855400Z",
     "start_time": "2023-10-26T17:24:28.795293700Z"
    }
   },
   "id": "abb4a3fae8e274d0"
  },
  {
   "cell_type": "code",
   "execution_count": 25,
   "outputs": [
    {
     "data": {
      "text/plain": "array(['Other', 'BI Developer', 'Data Analyst', 'Data Engineer',\n       'Data Scientist', 'Data Architect', 'Data Manager'], dtype=object)"
     },
     "execution_count": 25,
     "metadata": {},
     "output_type": "execute_result"
    }
   ],
   "source": [
    "data_2021_2023_copy.loc[:, 'job_title'] = data_2021_2023_copy.loc[:, 'job_title'].apply(\n",
    "    lambda x: x if x in retained_values else 'Other')\n",
    "data_2021_2023_copy.loc[:, 'job_title'].unique()"
   ],
   "metadata": {
    "collapsed": false,
    "ExecuteTime": {
     "end_time": "2023-10-26T17:24:31.858274200Z",
     "start_time": "2023-10-26T17:24:31.850201100Z"
    }
   },
   "id": "7537073c33e264f6"
  },
  {
   "cell_type": "code",
   "execution_count": 26,
   "outputs": [
    {
     "data": {
      "text/plain": "array(['Other', 'BI Developer', 'Data Analyst', 'Data Engineer',\n       'Data Scientist', 'Data Architect', 'Data Manager'], dtype=object)"
     },
     "execution_count": 26,
     "metadata": {},
     "output_type": "execute_result"
    }
   ],
   "source": [
    "data_2021_2023_copy.loc[:, 'job_title'].unique()"
   ],
   "metadata": {
    "collapsed": false,
    "ExecuteTime": {
     "end_time": "2023-10-26T17:24:32.028143800Z",
     "start_time": "2023-10-26T17:24:32.015476100Z"
    }
   },
   "id": "e0423cc128e7f58d"
  },
  {
   "cell_type": "code",
   "execution_count": 27,
   "outputs": [],
   "source": [
    "data_2017_2020_copy['Survey Year'] = pd.to_datetime(data_2017_2020_copy['Survey Year'], format='%Y')"
   ],
   "metadata": {
    "collapsed": false,
    "ExecuteTime": {
     "end_time": "2023-10-26T17:24:32.867819700Z",
     "start_time": "2023-10-26T17:24:32.857121600Z"
    }
   },
   "id": "21859f3db30357bd"
  },
  {
   "cell_type": "markdown",
   "source": [],
   "metadata": {
    "collapsed": false
   },
   "id": "f46180229db05a7b"
  },
  {
   "cell_type": "code",
   "execution_count": 28,
   "outputs": [],
   "source": [
    "data_2021_2023_copy['work_year'] = pd.to_datetime(data_2021_2023_copy['work_year'], format='%Y')"
   ],
   "metadata": {
    "collapsed": false,
    "ExecuteTime": {
     "end_time": "2023-10-26T17:24:33.559066300Z",
     "start_time": "2023-10-26T17:24:33.546243500Z"
    }
   },
   "id": "83575149a0d80041"
  },
  {
   "cell_type": "code",
   "execution_count": 34,
   "outputs": [
    {
     "data": {
      "text/plain": "Index(['work_year', 'experience_level', 'employment_type', 'job_title',\n       'salary_in_usd', 'employee_residence', 'Country'],\n      dtype='object')"
     },
     "execution_count": 34,
     "metadata": {},
     "output_type": "execute_result"
    }
   ],
   "source": [
    "data_2021_2023_copy.columns"
   ],
   "metadata": {
    "collapsed": false,
    "ExecuteTime": {
     "end_time": "2023-10-26T17:34:53.175737100Z",
     "start_time": "2023-10-26T17:34:53.155987200Z"
    }
   },
   "id": "7362e26a498be65a"
  },
  {
   "cell_type": "code",
   "execution_count": 32,
   "outputs": [
    {
     "data": {
      "text/plain": "Index(['work_year', 'salary_in_usd', 'Country', 'employment_type',\n       'job_title'],\n      dtype='object')"
     },
     "execution_count": 32,
     "metadata": {},
     "output_type": "execute_result"
    }
   ],
   "source": [
    "data_2017_2020_copy = data_2017_2020_copy.rename(\n",
    "    columns={\"Survey Year\": \"work_year\", \"SalaryUSD\": \"salary_in_usd\", \"EmploymentStatus\": \"employment_type\",\n",
    "             \"JobTitle\": \"job_title\"})\n",
    "data_2017_2020_copy.columns"
   ],
   "metadata": {
    "collapsed": false,
    "ExecuteTime": {
     "end_time": "2023-10-26T17:24:48.640052900Z",
     "start_time": "2023-10-26T17:24:48.614086900Z"
    }
   },
   "id": "cb4393d148971700"
  },
  {
   "cell_type": "code",
   "execution_count": 42,
   "outputs": [
    {
     "data": {
      "text/plain": "       work_year  salary_in_usd         Country employment_type  \\\n0     2017-01-01         200000   United States       Full time   \n1     2017-01-01          61515  United Kingdom       Full time   \n2     2017-01-01          95000         Germany       Full time   \n3     2017-01-01          56000  United Kingdom       Full time   \n4     2017-01-01          35000          France       Full time   \n...          ...            ...             ...             ...   \n14990 2020-01-01         412000   United States       Full time   \n14991 2021-01-01         151000   United States       Full time   \n14992 2020-01-01         105000   United States       Full time   \n14993 2020-01-01         100000   United States        Contract   \n14994 2021-01-01          94665           India       Full time   \n\n            job_title experience_level employee_residence  \n0               Other          unknown            unknown  \n1               Other          unknown            unknown  \n2               Other          unknown            unknown  \n3               Other          unknown            unknown  \n4               Other          unknown            unknown  \n...               ...              ...                ...  \n14990  Data Scientist           Expert      United States  \n14991           Other    Internmediate      United States  \n14992  Data Scientist           Junior      United States  \n14993           Other           Junior      United States  \n14994           Other           Expert              India  \n\n[14995 rows x 7 columns]",
      "text/html": "<div>\n<style scoped>\n    .dataframe tbody tr th:only-of-type {\n        vertical-align: middle;\n    }\n\n    .dataframe tbody tr th {\n        vertical-align: top;\n    }\n\n    .dataframe thead th {\n        text-align: right;\n    }\n</style>\n<table border=\"1\" class=\"dataframe\">\n  <thead>\n    <tr style=\"text-align: right;\">\n      <th></th>\n      <th>work_year</th>\n      <th>salary_in_usd</th>\n      <th>Country</th>\n      <th>employment_type</th>\n      <th>job_title</th>\n      <th>experience_level</th>\n      <th>employee_residence</th>\n    </tr>\n  </thead>\n  <tbody>\n    <tr>\n      <th>0</th>\n      <td>2017-01-01</td>\n      <td>200000</td>\n      <td>United States</td>\n      <td>Full time</td>\n      <td>Other</td>\n      <td>unknown</td>\n      <td>unknown</td>\n    </tr>\n    <tr>\n      <th>1</th>\n      <td>2017-01-01</td>\n      <td>61515</td>\n      <td>United Kingdom</td>\n      <td>Full time</td>\n      <td>Other</td>\n      <td>unknown</td>\n      <td>unknown</td>\n    </tr>\n    <tr>\n      <th>2</th>\n      <td>2017-01-01</td>\n      <td>95000</td>\n      <td>Germany</td>\n      <td>Full time</td>\n      <td>Other</td>\n      <td>unknown</td>\n      <td>unknown</td>\n    </tr>\n    <tr>\n      <th>3</th>\n      <td>2017-01-01</td>\n      <td>56000</td>\n      <td>United Kingdom</td>\n      <td>Full time</td>\n      <td>Other</td>\n      <td>unknown</td>\n      <td>unknown</td>\n    </tr>\n    <tr>\n      <th>4</th>\n      <td>2017-01-01</td>\n      <td>35000</td>\n      <td>France</td>\n      <td>Full time</td>\n      <td>Other</td>\n      <td>unknown</td>\n      <td>unknown</td>\n    </tr>\n    <tr>\n      <th>...</th>\n      <td>...</td>\n      <td>...</td>\n      <td>...</td>\n      <td>...</td>\n      <td>...</td>\n      <td>...</td>\n      <td>...</td>\n    </tr>\n    <tr>\n      <th>14990</th>\n      <td>2020-01-01</td>\n      <td>412000</td>\n      <td>United States</td>\n      <td>Full time</td>\n      <td>Data Scientist</td>\n      <td>Expert</td>\n      <td>United States</td>\n    </tr>\n    <tr>\n      <th>14991</th>\n      <td>2021-01-01</td>\n      <td>151000</td>\n      <td>United States</td>\n      <td>Full time</td>\n      <td>Other</td>\n      <td>Internmediate</td>\n      <td>United States</td>\n    </tr>\n    <tr>\n      <th>14992</th>\n      <td>2020-01-01</td>\n      <td>105000</td>\n      <td>United States</td>\n      <td>Full time</td>\n      <td>Data Scientist</td>\n      <td>Junior</td>\n      <td>United States</td>\n    </tr>\n    <tr>\n      <th>14993</th>\n      <td>2020-01-01</td>\n      <td>100000</td>\n      <td>United States</td>\n      <td>Contract</td>\n      <td>Other</td>\n      <td>Junior</td>\n      <td>United States</td>\n    </tr>\n    <tr>\n      <th>14994</th>\n      <td>2021-01-01</td>\n      <td>94665</td>\n      <td>India</td>\n      <td>Full time</td>\n      <td>Other</td>\n      <td>Expert</td>\n      <td>India</td>\n    </tr>\n  </tbody>\n</table>\n<p>14995 rows × 7 columns</p>\n</div>"
     },
     "execution_count": 42,
     "metadata": {},
     "output_type": "execute_result"
    }
   ],
   "source": [
    "data_2017_2023 = pd.concat([data_2017_2020_copy, data_2021_2023_copy], ignore_index=True)\n",
    "data_2017_2023.loc[:, \"experience_level\"] = data_2017_2023.loc[:, \"experience_level\"].fillna(\"unknown\")\n",
    "data_2017_2023.loc[:, \"employee_residence\"] = data_2017_2023.loc[:, \"employee_residence\"].fillna(\"unknown\")\n",
    "\n",
    "data_2017_2023"
   ],
   "metadata": {
    "collapsed": false,
    "ExecuteTime": {
     "end_time": "2023-10-26T17:37:25.922150600Z",
     "start_time": "2023-10-26T17:37:25.911670400Z"
    }
   },
   "id": "870f64dea749b658"
  },
  {
   "cell_type": "code",
   "execution_count": 54,
   "outputs": [
    {
     "name": "stdout",
     "output_type": "stream",
     "text": [
      "2017\n",
      "2018\n",
      "2019\n",
      "2020\n",
      "2021\n",
      "2022\n",
      "2023\n"
     ]
    },
    {
     "data": {
      "text/plain": "                           work_year  salary_in_usd  SalaryUSD_Full_time_2017  \\\ncount                          14995      14995.000                  2794.000   \nmean   2020-05-31 06:45:55.638546176     133546.774                 89195.560   \nmin              2017-01-01 00:00:00          0.000                   430.000   \n25%              2018-01-01 00:00:00      80000.000                 62749.500   \n50%              2022-01-01 00:00:00     113220.000                 89000.000   \n75%              2023-01-01 00:00:00     155000.000                112000.000   \nmax              2023-01-01 00:00:00   14100000.000               1450000.000   \nstd                              NaN     304540.925                 51435.136   \n\n       SalaryUSD_Full_time_2018  SalaryUSD_Full_time_2019  \\\ncount                  2966.000                   836.000   \nmean                 138036.736                 98550.237   \nmin                      56.000                  2400.000   \n25%                   65120.000                 67500.000   \n50%                   90000.000                 90125.000   \n75%                  114000.000                115000.000   \nmax                14100000.000               5440968.000   \nstd                  633125.631                189853.787   \n\n       SalaryUSD_Full_time_2020  SalaryUSD_Full_time_2021  \\\ncount                    69.000                   208.000   \nmean                 106759.812                 99485.740   \nmin                   15000.000                 15000.000   \n25%                   49268.000                 54202.000   \n50%                   87000.000                 86369.000   \n75%                  120000.000                140000.000   \nmax                  450000.000                423000.000   \nstd                   84379.908                 63012.621   \n\n       SalaryUSD_Full_time_2022  SalaryUSD_Full_time_2023  \ncount                  1636.000                  6147.000  \nmean                 135044.260                155697.717  \nmin                   15000.000                 15680.000  \n25%                   95000.000                110736.000  \n50%                  133383.000                148500.000  \n75%                  173000.000                193600.000  \nmax                  430967.000                430640.000  \nstd                   57540.936                 63485.652  ",
      "text/html": "<div>\n<style scoped>\n    .dataframe tbody tr th:only-of-type {\n        vertical-align: middle;\n    }\n\n    .dataframe tbody tr th {\n        vertical-align: top;\n    }\n\n    .dataframe thead th {\n        text-align: right;\n    }\n</style>\n<table border=\"1\" class=\"dataframe\">\n  <thead>\n    <tr style=\"text-align: right;\">\n      <th></th>\n      <th>work_year</th>\n      <th>salary_in_usd</th>\n      <th>SalaryUSD_Full_time_2017</th>\n      <th>SalaryUSD_Full_time_2018</th>\n      <th>SalaryUSD_Full_time_2019</th>\n      <th>SalaryUSD_Full_time_2020</th>\n      <th>SalaryUSD_Full_time_2021</th>\n      <th>SalaryUSD_Full_time_2022</th>\n      <th>SalaryUSD_Full_time_2023</th>\n    </tr>\n  </thead>\n  <tbody>\n    <tr>\n      <th>count</th>\n      <td>14995</td>\n      <td>14995.000</td>\n      <td>2794.000</td>\n      <td>2966.000</td>\n      <td>836.000</td>\n      <td>69.000</td>\n      <td>208.000</td>\n      <td>1636.000</td>\n      <td>6147.000</td>\n    </tr>\n    <tr>\n      <th>mean</th>\n      <td>2020-05-31 06:45:55.638546176</td>\n      <td>133546.774</td>\n      <td>89195.560</td>\n      <td>138036.736</td>\n      <td>98550.237</td>\n      <td>106759.812</td>\n      <td>99485.740</td>\n      <td>135044.260</td>\n      <td>155697.717</td>\n    </tr>\n    <tr>\n      <th>min</th>\n      <td>2017-01-01 00:00:00</td>\n      <td>0.000</td>\n      <td>430.000</td>\n      <td>56.000</td>\n      <td>2400.000</td>\n      <td>15000.000</td>\n      <td>15000.000</td>\n      <td>15000.000</td>\n      <td>15680.000</td>\n    </tr>\n    <tr>\n      <th>25%</th>\n      <td>2018-01-01 00:00:00</td>\n      <td>80000.000</td>\n      <td>62749.500</td>\n      <td>65120.000</td>\n      <td>67500.000</td>\n      <td>49268.000</td>\n      <td>54202.000</td>\n      <td>95000.000</td>\n      <td>110736.000</td>\n    </tr>\n    <tr>\n      <th>50%</th>\n      <td>2022-01-01 00:00:00</td>\n      <td>113220.000</td>\n      <td>89000.000</td>\n      <td>90000.000</td>\n      <td>90125.000</td>\n      <td>87000.000</td>\n      <td>86369.000</td>\n      <td>133383.000</td>\n      <td>148500.000</td>\n    </tr>\n    <tr>\n      <th>75%</th>\n      <td>2023-01-01 00:00:00</td>\n      <td>155000.000</td>\n      <td>112000.000</td>\n      <td>114000.000</td>\n      <td>115000.000</td>\n      <td>120000.000</td>\n      <td>140000.000</td>\n      <td>173000.000</td>\n      <td>193600.000</td>\n    </tr>\n    <tr>\n      <th>max</th>\n      <td>2023-01-01 00:00:00</td>\n      <td>14100000.000</td>\n      <td>1450000.000</td>\n      <td>14100000.000</td>\n      <td>5440968.000</td>\n      <td>450000.000</td>\n      <td>423000.000</td>\n      <td>430967.000</td>\n      <td>430640.000</td>\n    </tr>\n    <tr>\n      <th>std</th>\n      <td>NaN</td>\n      <td>304540.925</td>\n      <td>51435.136</td>\n      <td>633125.631</td>\n      <td>189853.787</td>\n      <td>84379.908</td>\n      <td>63012.621</td>\n      <td>57540.936</td>\n      <td>63485.652</td>\n    </tr>\n  </tbody>\n</table>\n</div>"
     },
     "execution_count": 54,
     "metadata": {},
     "output_type": "execute_result"
    }
   ],
   "source": [
    "salaryUSD_full_time_2017_2023 = data_2017_2023.copy()\n",
    "salaryUSD_full_time_2017_2023.loc[:, \"job_title\"] = salaryUSD_full_time_2017_2023.loc[:, \"job_title\"][salaryUSD_full_time_2017_2023.loc[:, \"job_title\"] != \"Other\"]\n",
    "# Utilisez une variable différente pour la boucle\n",
    "start_year = 2017\n",
    "\n",
    "for i in range(0, 7):\n",
    "    print(start_year)\n",
    "    salaryUSD_full_time_2017_2023[f'SalaryUSD_Full_time_{start_year}'] = salaryUSD_full_time_2017_2023['salary_in_usd'][\n",
    "        (salaryUSD_full_time_2017_2023['work_year'] == f'{start_year}-01-01') & (\n",
    "                salaryUSD_full_time_2017_2023['employment_type'] == 'Full time')]\n",
    "    start_year += 1\n",
    "\n",
    "salaryUSD_full_time_2017_2023.describe()"
   ],
   "metadata": {
    "collapsed": false,
    "ExecuteTime": {
     "end_time": "2023-10-26T17:43:37.095781Z",
     "start_time": "2023-10-26T17:43:37.067895200Z"
    }
   },
   "id": "1ca67a8dc3b31a0e"
  },
  {
   "cell_type": "code",
   "execution_count": 56,
   "outputs": [
    {
     "data": {
      "text/plain": "<Figure size 2500x1500 with 0 Axes>"
     },
     "metadata": {},
     "output_type": "display_data"
    },
    {
     "data": {
      "text/plain": "<Figure size 500x500 with 1 Axes>",
      "image/png": "[encoded data removed]"
     },
     "metadata": {},
     "output_type": "display_data"
    },
    {
     "data": {
      "text/plain": "                           work_year  salary_in_usd  SalaryUSD_Full_time_2017  \\\ncount                          14995      14995.000                  2794.000   \nmean   2020-05-31 06:45:55.638546176     133546.774                 89195.560   \nmin              2017-01-01 00:00:00          0.000                   430.000   \n25%              2018-01-01 00:00:00      80000.000                 62749.500   \n50%              2022-01-01 00:00:00     113220.000                 89000.000   \n75%              2023-01-01 00:00:00     155000.000                112000.000   \nmax              2023-01-01 00:00:00   14100000.000               1450000.000   \nstd                              NaN     304540.925                 51435.136   \n\n       SalaryUSD_Full_time_2018  SalaryUSD_Full_time_2019  \\\ncount                  2966.000                   836.000   \nmean                 138036.736                 98550.237   \nmin                      56.000                  2400.000   \n25%                   65120.000                 67500.000   \n50%                   90000.000                 90125.000   \n75%                  114000.000                115000.000   \nmax                14100000.000               5440968.000   \nstd                  633125.631                189853.787   \n\n       SalaryUSD_Full_time_2020  SalaryUSD_Full_time_2021  \\\ncount                    69.000                   208.000   \nmean                 106759.812                 99485.740   \nmin                   15000.000                 15000.000   \n25%                   49268.000                 54202.000   \n50%                   87000.000                 86369.000   \n75%                  120000.000                140000.000   \nmax                  450000.000                423000.000   \nstd                   84379.908                 63012.621   \n\n       SalaryUSD_Full_time_2022  SalaryUSD_Full_time_2023  \ncount                  1636.000                  6147.000  \nmean                 135044.260                155697.717  \nmin                   15000.000                 15680.000  \n25%                   95000.000                110736.000  \n50%                  133383.000                148500.000  \n75%                  173000.000                193600.000  \nmax                  430967.000                430640.000  \nstd                   57540.936                 63485.652  ",
      "text/html": "<div>\n<style scoped>\n    .dataframe tbody tr th:only-of-type {\n        vertical-align: middle;\n    }\n\n    .dataframe tbody tr th {\n        vertical-align: top;\n    }\n\n    .dataframe thead th {\n        text-align: right;\n    }\n</style>\n<table border=\"1\" class=\"dataframe\">\n  <thead>\n    <tr style=\"text-align: right;\">\n      <th></th>\n      <th>work_year</th>\n      <th>salary_in_usd</th>\n      <th>SalaryUSD_Full_time_2017</th>\n      <th>SalaryUSD_Full_time_2018</th>\n      <th>SalaryUSD_Full_time_2019</th>\n      <th>SalaryUSD_Full_time_2020</th>\n      <th>SalaryUSD_Full_time_2021</th>\n      <th>SalaryUSD_Full_time_2022</th>\n      <th>SalaryUSD_Full_time_2023</th>\n    </tr>\n  </thead>\n  <tbody>\n    <tr>\n      <th>count</th>\n      <td>14995</td>\n      <td>14995.000</td>\n      <td>2794.000</td>\n      <td>2966.000</td>\n      <td>836.000</td>\n      <td>69.000</td>\n      <td>208.000</td>\n      <td>1636.000</td>\n      <td>6147.000</td>\n    </tr>\n    <tr>\n      <th>mean</th>\n      <td>2020-05-31 06:45:55.638546176</td>\n      <td>133546.774</td>\n      <td>89195.560</td>\n      <td>138036.736</td>\n      <td>98550.237</td>\n      <td>106759.812</td>\n      <td>99485.740</td>\n      <td>135044.260</td>\n      <td>155697.717</td>\n    </tr>\n    <tr>\n      <th>min</th>\n      <td>2017-01-01 00:00:00</td>\n      <td>0.000</td>\n      <td>430.000</td>\n      <td>56.000</td>\n      <td>2400.000</td>\n      <td>15000.000</td>\n      <td>15000.000</td>\n      <td>15000.000</td>\n      <td>15680.000</td>\n    </tr>\n    <tr>\n      <th>25%</th>\n      <td>2018-01-01 00:00:00</td>\n      <td>80000.000</td>\n      <td>62749.500</td>\n      <td>65120.000</td>\n      <td>67500.000</td>\n      <td>49268.000</td>\n      <td>54202.000</td>\n      <td>95000.000</td>\n      <td>110736.000</td>\n    </tr>\n    <tr>\n      <th>50%</th>\n      <td>2022-01-01 00:00:00</td>\n      <td>113220.000</td>\n      <td>89000.000</td>\n      <td>90000.000</td>\n      <td>90125.000</td>\n      <td>87000.000</td>\n      <td>86369.000</td>\n      <td>133383.000</td>\n      <td>148500.000</td>\n    </tr>\n    <tr>\n      <th>75%</th>\n      <td>2023-01-01 00:00:00</td>\n      <td>155000.000</td>\n      <td>112000.000</td>\n      <td>114000.000</td>\n      <td>115000.000</td>\n      <td>120000.000</td>\n      <td>140000.000</td>\n      <td>173000.000</td>\n      <td>193600.000</td>\n    </tr>\n    <tr>\n      <th>max</th>\n      <td>2023-01-01 00:00:00</td>\n      <td>14100000.000</td>\n      <td>1450000.000</td>\n      <td>14100000.000</td>\n      <td>5440968.000</td>\n      <td>450000.000</td>\n      <td>423000.000</td>\n      <td>430967.000</td>\n      <td>430640.000</td>\n    </tr>\n    <tr>\n      <th>std</th>\n      <td>NaN</td>\n      <td>304540.925</td>\n      <td>51435.136</td>\n      <td>633125.631</td>\n      <td>189853.787</td>\n      <td>84379.908</td>\n      <td>63012.621</td>\n      <td>57540.936</td>\n      <td>63485.652</td>\n    </tr>\n  </tbody>\n</table>\n</div>"
     },
     "execution_count": 56,
     "metadata": {},
     "output_type": "execute_result"
    }
   ],
   "source": [
    "plt.figure(figsize=(25, 15))  # Réglez la taille du graphique si nécessaire\n",
    "sns.catplot(x=\"work_year\", y='salary_in_usd', data=data_2017_2023, kind=\"box\")\n",
    "\n",
    "plt.ylabel('Salaire')\n",
    "\n",
    "# Ajoutez un titre au graphique\n",
    "plt.title('Violin Plot des Salaires par Emploi')\n",
    "\n",
    "# Affichez le graphique\n",
    "plt.show()\n",
    "salaryUSD_full_time_2017_2023.describe()"
   ],
   "metadata": {
    "collapsed": false,
    "ExecuteTime": {
     "end_time": "2023-10-26T17:43:48.294053900Z",
     "start_time": "2023-10-26T17:43:48.114169300Z"
    }
   },
   "id": "16bf6135be020c16"
  },
  {
   "cell_type": "code",
   "execution_count": 59,
   "outputs": [],
   "source": [
    "data_2017_2023.to_csv(\"Salary_2017_2023.csv\")"
   ],
   "metadata": {
    "collapsed": false,
    "ExecuteTime": {
     "end_time": "2023-10-26T17:43:55.301636600Z",
     "start_time": "2023-10-26T17:43:55.256900500Z"
    }
   },
   "id": "ed42fb8da2e59b43"
  },
  {
   "cell_type": "code",
   "execution_count": 60,
   "outputs": [],
   "source": [
    "pivot_table = salaryUSD_full_time_2017_2023.pivot_table(values=[\"SalaryUSD_Full_time_2017\", \"SalaryUSD_Full_time_2023\"], index=['job_title'], aggfunc='mean')\n",
    "pivot_table[\"rate\"] = round(abs(((pivot_table[\"SalaryUSD_Full_time_2017\"] - pivot_table[\"SalaryUSD_Full_time_2023\" ])/ pivot_table[\"SalaryUSD_Full_time_2023\"]) * 100))\n",
    "pivot_table.to_csv(\"rate_salary.csv\")"
   ],
   "metadata": {
    "collapsed": false,
    "ExecuteTime": {
     "end_time": "2023-10-26T17:43:58.341451Z",
     "start_time": "2023-10-26T17:43:58.328780700Z"
    }
   },
   "id": "95bad04d5d34b583"
  },
  {
   "cell_type": "code",
   "execution_count": null,
   "outputs": [],
   "source": [],
   "metadata": {
    "collapsed": false
   }
  }
 ],
 "metadata": {
  "kernelspec": {
   "display_name": "Python 3",
   "language": "python",
   "name": "python3"
  },
  "language_info": {
   "codemirror_mode": {
    "name": "ipython",
    "version": 2
   },
   "file_extension": ".py",
   "mimetype": "text/x-python",
   "name": "python",
   "nbconvert_exporter": "python",
   "pygments_lexer": "ipython2",
   "version": "2.7.6"
  }
 },
 "nbformat": 4,
 "nbformat_minor": 5
}
