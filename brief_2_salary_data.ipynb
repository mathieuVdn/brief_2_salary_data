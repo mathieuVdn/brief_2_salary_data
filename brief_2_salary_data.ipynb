{
 "cells": [
  {
   "cell_type": "code",
   "execution_count": 1,
   "id": "initial_id",
   "metadata": {
    "collapsed": true,
    "ExecuteTime": {
     "end_time": "2023-10-25T13:49:44.585370Z",
     "start_time": "2023-10-25T13:49:43.809633500Z"
    }
   },
   "outputs": [],
   "source": [
    "import pandas as pd\n",
    "import pycountry\n",
    "\n",
    "data_2021_2023 = pd.read_csv('Data/salaries.csv')\n",
    "data_2017_2020 = pd.read_csv('Data/2019_Data_Professional_Salary_Survey_Responses.csv')"
   ]
  },
  {
   "cell_type": "code",
   "execution_count": 2,
   "outputs": [
    {
     "data": {
      "text/plain": "   work_year experience_level employment_type                  job_title  \\\n0       2023               SE              FT  Machine Learning Engineer   \n1       2023               MI              FT               BI Developer   \n2       2023               MI              FT               BI Developer   \n3       2023               MI              FT               Data Analyst   \n4       2023               MI              FT               Data Analyst   \n\n   salary_in_usd employee_residence company_location  \n0          70179                 IT               US  \n1         110000                 US               US  \n2          75000                 US               US  \n3          46426                 SI               SI  \n4          38868                 SI               SI  ",
      "text/html": "<div>\n<style scoped>\n    .dataframe tbody tr th:only-of-type {\n        vertical-align: middle;\n    }\n\n    .dataframe tbody tr th {\n        vertical-align: top;\n    }\n\n    .dataframe thead th {\n        text-align: right;\n    }\n</style>\n<table border=\"1\" class=\"dataframe\">\n  <thead>\n    <tr style=\"text-align: right;\">\n      <th></th>\n      <th>work_year</th>\n      <th>experience_level</th>\n      <th>employment_type</th>\n      <th>job_title</th>\n      <th>salary_in_usd</th>\n      <th>employee_residence</th>\n      <th>company_location</th>\n    </tr>\n  </thead>\n  <tbody>\n    <tr>\n      <th>0</th>\n      <td>2023</td>\n      <td>SE</td>\n      <td>FT</td>\n      <td>Machine Learning Engineer</td>\n      <td>70179</td>\n      <td>IT</td>\n      <td>US</td>\n    </tr>\n    <tr>\n      <th>1</th>\n      <td>2023</td>\n      <td>MI</td>\n      <td>FT</td>\n      <td>BI Developer</td>\n      <td>110000</td>\n      <td>US</td>\n      <td>US</td>\n    </tr>\n    <tr>\n      <th>2</th>\n      <td>2023</td>\n      <td>MI</td>\n      <td>FT</td>\n      <td>BI Developer</td>\n      <td>75000</td>\n      <td>US</td>\n      <td>US</td>\n    </tr>\n    <tr>\n      <th>3</th>\n      <td>2023</td>\n      <td>MI</td>\n      <td>FT</td>\n      <td>Data Analyst</td>\n      <td>46426</td>\n      <td>SI</td>\n      <td>SI</td>\n    </tr>\n    <tr>\n      <th>4</th>\n      <td>2023</td>\n      <td>MI</td>\n      <td>FT</td>\n      <td>Data Analyst</td>\n      <td>38868</td>\n      <td>SI</td>\n      <td>SI</td>\n    </tr>\n  </tbody>\n</table>\n</div>"
     },
     "execution_count": 2,
     "metadata": {},
     "output_type": "execute_result"
    }
   ],
   "source": [
    "data_2021_2023_copy = data_2021_2023.copy()\n",
    "data_2021_2023_copy = data_2021_2023_copy.drop([\"company_size\", \"remote_ratio\", \"salary_currency\", \"company_size\", \"salary\"], axis=1)\n",
    "data_2021_2023_copy.head()"
   ],
   "metadata": {
    "collapsed": false,
    "ExecuteTime": {
     "end_time": "2023-10-25T13:49:44.629253800Z",
     "start_time": "2023-10-25T13:49:44.592354900Z"
    }
   },
   "id": "13a6b79b4b4cd134"
  },
  {
   "cell_type": "code",
   "execution_count": 3,
   "outputs": [],
   "source": [
    "  #copy de dataframe 2017-2020"
   ],
   "metadata": {
    "collapsed": false,
    "ExecuteTime": {
     "end_time": "2023-10-25T13:49:44.630250700Z",
     "start_time": "2023-10-25T13:49:44.614301400Z"
    }
   },
   "id": "1dabfe0c85f54509"
  },
  {
   "cell_type": "code",
   "execution_count": 4,
   "outputs": [
    {
     "data": {
      "text/plain": "      Survey Year SalaryUSD         Country  \\\n0            2017    200000   United States   \n1            2017     61515  United Kingdom   \n2            2017     95000         Germany   \n3            2017     56000  United Kingdom   \n4            2017     35000          France   \n...           ...       ...             ...   \n6888         2019     32000         Hungary   \n6889         2019     32000         Hungary   \n6890         2019     40000        Portugal   \n6891         2019    130000   United States   \n6892         2019     84500          Canada   \n\n                                       EmploymentStatus  \\\n0                                    Full time employee   \n1                                    Full time employee   \n2                                    Full time employee   \n3                                    Full time employee   \n4     Full time employee of a consulting/contracting...   \n...                                                 ...   \n6888                                 Full time employee   \n6889                                 Full time employee   \n6890  Full time employee of a consulting/contracting...   \n6891  Full time employee of a consulting/contracting...   \n6892                                 Full time employee   \n\n                                               JobTitle  \n0                                                   DBA  \n1                                                   DBA  \n2                                                 Other  \n3                                                   DBA  \n4                                                   DBA  \n...                                                 ...  \n6888  DBA (General - splits time evenly between writ...  \n6889  DBA (General - splits time evenly between writ...  \n6890                  Developer: App code (C#, JS, etc)  \n6891  DBA (General - splits time evenly between writ...  \n6892                                          Architect  \n\n[6893 rows x 5 columns]",
      "text/html": "<div>\n<style scoped>\n    .dataframe tbody tr th:only-of-type {\n        vertical-align: middle;\n    }\n\n    .dataframe tbody tr th {\n        vertical-align: top;\n    }\n\n    .dataframe thead th {\n        text-align: right;\n    }\n</style>\n<table border=\"1\" class=\"dataframe\">\n  <thead>\n    <tr style=\"text-align: right;\">\n      <th></th>\n      <th>Survey Year</th>\n      <th>SalaryUSD</th>\n      <th>Country</th>\n      <th>EmploymentStatus</th>\n      <th>JobTitle</th>\n    </tr>\n  </thead>\n  <tbody>\n    <tr>\n      <th>0</th>\n      <td>2017</td>\n      <td>200000</td>\n      <td>United States</td>\n      <td>Full time employee</td>\n      <td>DBA</td>\n    </tr>\n    <tr>\n      <th>1</th>\n      <td>2017</td>\n      <td>61515</td>\n      <td>United Kingdom</td>\n      <td>Full time employee</td>\n      <td>DBA</td>\n    </tr>\n    <tr>\n      <th>2</th>\n      <td>2017</td>\n      <td>95000</td>\n      <td>Germany</td>\n      <td>Full time employee</td>\n      <td>Other</td>\n    </tr>\n    <tr>\n      <th>3</th>\n      <td>2017</td>\n      <td>56000</td>\n      <td>United Kingdom</td>\n      <td>Full time employee</td>\n      <td>DBA</td>\n    </tr>\n    <tr>\n      <th>4</th>\n      <td>2017</td>\n      <td>35000</td>\n      <td>France</td>\n      <td>Full time employee of a consulting/contracting...</td>\n      <td>DBA</td>\n    </tr>\n    <tr>\n      <th>...</th>\n      <td>...</td>\n      <td>...</td>\n      <td>...</td>\n      <td>...</td>\n      <td>...</td>\n    </tr>\n    <tr>\n      <th>6888</th>\n      <td>2019</td>\n      <td>32000</td>\n      <td>Hungary</td>\n      <td>Full time employee</td>\n      <td>DBA (General - splits time evenly between writ...</td>\n    </tr>\n    <tr>\n      <th>6889</th>\n      <td>2019</td>\n      <td>32000</td>\n      <td>Hungary</td>\n      <td>Full time employee</td>\n      <td>DBA (General - splits time evenly between writ...</td>\n    </tr>\n    <tr>\n      <th>6890</th>\n      <td>2019</td>\n      <td>40000</td>\n      <td>Portugal</td>\n      <td>Full time employee of a consulting/contracting...</td>\n      <td>Developer: App code (C#, JS, etc)</td>\n    </tr>\n    <tr>\n      <th>6891</th>\n      <td>2019</td>\n      <td>130000</td>\n      <td>United States</td>\n      <td>Full time employee of a consulting/contracting...</td>\n      <td>DBA (General - splits time evenly between writ...</td>\n    </tr>\n    <tr>\n      <th>6892</th>\n      <td>2019</td>\n      <td>84500</td>\n      <td>Canada</td>\n      <td>Full time employee</td>\n      <td>Architect</td>\n    </tr>\n  </tbody>\n</table>\n<p>6893 rows × 5 columns</p>\n</div>"
     },
     "execution_count": 4,
     "metadata": {},
     "output_type": "execute_result"
    }
   ],
   "source": [
    "data_2017_2020_copy = data_2017_2020.copy()\n",
    "data_2017_2020_copy = data_2017_2020_copy.drop([ 'Timestamp', 'PostalCode',\n",
    "       'PrimaryDatabase', 'YearsWithThisDatabase', 'OtherDatabases',\n",
    "        'ManageStaff', 'YearsWithThisTypeOfJob',\n",
    "       'HowManyCompanies', 'OtherPeopleOnYourTeam', 'CompanyEmployeesOverall',\n",
    "       'DatabaseServers', 'Education', 'EducationIsComputerRelated',\n",
    "       'Certifications', 'HoursWorkedPerWeek', 'TelecommuteDaysPerWeek',\n",
    "       'PopulationOfLargestCityWithin20Miles',\n",
    "       'LookingForAnotherJob', 'CareerPlansThisYear', 'Gender',\n",
    "       'OtherJobDuties', 'KindsOfTasksPerformed', 'Counter', 'EmploymentSector'], axis=1)\n",
    "data_2017_2020_copy "
   ],
   "metadata": {
    "collapsed": false,
    "ExecuteTime": {
     "end_time": "2023-10-25T13:49:44.652074Z",
     "start_time": "2023-10-25T13:49:44.622273600Z"
    }
   },
   "id": "48451453184a11b9"
  },
  {
   "cell_type": "code",
   "execution_count": 5,
   "outputs": [
    {
     "data": {
      "text/plain": "array(['Database Administrator', 'Other',\n       'Developer: App code (C#, JS, etc)', 'Data Engineer',\n       'Developer: T-SQL', 'BI Developer', 'Data Architect',\n       'Data Analyst', 'Data Manager', 'Data Scientist',\n       'Principal database engineer', 'DevOps, Sr Software Engineer DBA',\n       'Technician ', 'Database Specialist', 'Consultant',\n       'Systems Administrator', 'Sales', 'DBA / BI Developer',\n       'Sr Consultant ', 'Analytics consultant',\n       'DBA (General - splits time evenly between writing & tuning queries AND building & troubleshooting servers)',\n       'DBA (Development Focus - tunes queries, indexes, does deployments)',\n       'DBA (Production Focus - build & troubleshoot servers, HA/DR)'],\n      dtype=object)"
     },
     "execution_count": 5,
     "metadata": {},
     "output_type": "execute_result"
    }
   ],
   "source": [
    "data_2017_2020_copy.loc[:, \"JobTitle\"] = data_2017_2020_copy.loc[:, \"JobTitle\"].replace(\"Engineer\", \"Data Engineer\")\\\n",
    "       .replace(\"Analyst\", \"Data Analyst\")\\\n",
    "       .replace(\"Architect\", \"Data Architect\")\\\n",
    "       .replace(\"Manager\", \"Data Manager\")\\\n",
    "       .replace(\"Developer: Business Intelligence (SSRS, PowerBI, etc)\", \"BI Developer\" )\\\n",
    "       .replace(\"DBA\", \"Database Administrator\")\n",
    "data_2017_2020_copy.loc[:, \"JobTitle\"].unique()"
   ],
   "metadata": {
    "collapsed": false,
    "ExecuteTime": {
     "end_time": "2023-10-25T13:49:44.742063Z",
     "start_time": "2023-10-25T13:49:44.643097900Z"
    }
   },
   "id": "b67253c194bed6fd"
  },
  {
   "cell_type": "code",
   "execution_count": 6,
   "outputs": [],
   "source": [
    "data_2017_2020_copy = data_2017_2020_copy[data_2017_2020_copy.loc[:,\"JobTitle\"] != \"Developer: App code (C#, JS, etc)\"]"
   ],
   "metadata": {
    "collapsed": false,
    "ExecuteTime": {
     "end_time": "2023-10-25T13:49:44.808191400Z",
     "start_time": "2023-10-25T13:49:44.669180300Z"
    }
   },
   "id": "85798d1542419db3"
  },
  {
   "cell_type": "code",
   "execution_count": 7,
   "outputs": [
    {
     "name": "stderr",
     "output_type": "stream",
     "text": [
      "C:\\Users\\mathieuvdn\\AppData\\Local\\Temp\\ipykernel_8352\\1764365406.py:1: SettingWithCopyWarning: \n",
      "A value is trying to be set on a copy of a slice from a DataFrame.\n",
      "Try using .loc[row_indexer,col_indexer] = value instead\n",
      "\n",
      "See the caveats in the documentation: https://pandas.pydata.org/pandas-docs/stable/user_guide/indexing.html#returning-a-view-versus-a-copy\n",
      "  data_2017_2020_copy['EmploymentStatus'] = data_2017_2020_copy['EmploymentStatus'].copy()\n"
     ]
    }
   ],
   "source": [
    "data_2017_2020_copy['EmploymentStatus'] = data_2017_2020_copy['EmploymentStatus'].copy()\n",
    "data_2017_2020_copy.loc[:,'EmploymentStatus'] = data_2017_2020_copy['EmploymentStatus'].replace('Full time employee', 'Full time').replace('Full time employee of a consulting/contracting company', 'Full time').replace('Independent or freelancer or company owner', 'Freelance').replace('Independent consultant, contractor, freelancer,  or company owner', 'Contract')"
   ],
   "metadata": {
    "collapsed": false,
    "ExecuteTime": {
     "end_time": "2023-10-25T13:49:44.830265200Z",
     "start_time": "2023-10-25T13:49:44.676671900Z"
    }
   },
   "id": "797ecd3eaa0d58db"
  },
  {
   "cell_type": "code",
   "execution_count": 8,
   "outputs": [],
   "source": [
    "data_2021_2023_copy['employment_type'] = data_2021_2023_copy['employment_type'].copy()\n",
    "data_2021_2023_copy.loc[:,'employment_type'] = data_2021_2023_copy['employment_type'].replace('FT', 'Full time').replace('CT', 'Contract').replace('PT', 'Part time').replace('FL', 'Freelance')"
   ],
   "metadata": {
    "collapsed": false,
    "ExecuteTime": {
     "end_time": "2023-10-25T13:49:44.831262200Z",
     "start_time": "2023-10-25T13:49:44.697643800Z"
    }
   },
   "id": "86cce5affe51a51"
  },
  {
   "cell_type": "code",
   "execution_count": 9,
   "outputs": [],
   "source": [
    "def get_country_name(initial):\n",
    "    try:\n",
    "        country = pycountry.countries.get(alpha_2=initial)\n",
    "        return country.name\n",
    "    except AttributeError:\n",
    "        return initial"
   ],
   "metadata": {
    "collapsed": false,
    "ExecuteTime": {
     "end_time": "2023-10-25T13:49:44.862183700Z",
     "start_time": "2023-10-25T13:49:44.710152700Z"
    }
   },
   "id": "179dcaebd542242f"
  },
  {
   "cell_type": "code",
   "execution_count": 10,
   "outputs": [
    {
     "data": {
      "text/plain": "   work_year experience_level employment_type                  job_title  \\\n0       2023               SE       Full time  Machine Learning Engineer   \n1       2023               MI       Full time               BI Developer   \n2       2023               MI       Full time               BI Developer   \n3       2023               MI       Full time               Data Analyst   \n4       2023               MI       Full time               Data Analyst   \n\n   salary_in_usd employee_residence        Country  \n0          70179              Italy  United States  \n1         110000      United States  United States  \n2          75000      United States  United States  \n3          46426           Slovenia       Slovenia  \n4          38868           Slovenia       Slovenia  ",
      "text/html": "<div>\n<style scoped>\n    .dataframe tbody tr th:only-of-type {\n        vertical-align: middle;\n    }\n\n    .dataframe tbody tr th {\n        vertical-align: top;\n    }\n\n    .dataframe thead th {\n        text-align: right;\n    }\n</style>\n<table border=\"1\" class=\"dataframe\">\n  <thead>\n    <tr style=\"text-align: right;\">\n      <th></th>\n      <th>work_year</th>\n      <th>experience_level</th>\n      <th>employment_type</th>\n      <th>job_title</th>\n      <th>salary_in_usd</th>\n      <th>employee_residence</th>\n      <th>Country</th>\n    </tr>\n  </thead>\n  <tbody>\n    <tr>\n      <th>0</th>\n      <td>2023</td>\n      <td>SE</td>\n      <td>Full time</td>\n      <td>Machine Learning Engineer</td>\n      <td>70179</td>\n      <td>Italy</td>\n      <td>United States</td>\n    </tr>\n    <tr>\n      <th>1</th>\n      <td>2023</td>\n      <td>MI</td>\n      <td>Full time</td>\n      <td>BI Developer</td>\n      <td>110000</td>\n      <td>United States</td>\n      <td>United States</td>\n    </tr>\n    <tr>\n      <th>2</th>\n      <td>2023</td>\n      <td>MI</td>\n      <td>Full time</td>\n      <td>BI Developer</td>\n      <td>75000</td>\n      <td>United States</td>\n      <td>United States</td>\n    </tr>\n    <tr>\n      <th>3</th>\n      <td>2023</td>\n      <td>MI</td>\n      <td>Full time</td>\n      <td>Data Analyst</td>\n      <td>46426</td>\n      <td>Slovenia</td>\n      <td>Slovenia</td>\n    </tr>\n    <tr>\n      <th>4</th>\n      <td>2023</td>\n      <td>MI</td>\n      <td>Full time</td>\n      <td>Data Analyst</td>\n      <td>38868</td>\n      <td>Slovenia</td>\n      <td>Slovenia</td>\n    </tr>\n  </tbody>\n</table>\n</div>"
     },
     "execution_count": 10,
     "metadata": {},
     "output_type": "execute_result"
    }
   ],
   "source": [
    "data_2021_2023_copy['company_location'] = data_2021_2023_copy['company_location'].apply(get_country_name)\n",
    "data_2021_2023_copy.rename(columns={'company_location': 'Country'}, inplace=True)\n",
    "\n",
    "data_2021_2023_copy['employee_residence'] = data_2021_2023_copy['employee_residence'].apply(get_country_name)\n",
    "data_2021_2023_copy.head()"
   ],
   "metadata": {
    "collapsed": false,
    "ExecuteTime": {
     "end_time": "2023-10-25T13:49:45.019588100Z",
     "start_time": "2023-10-25T13:49:44.717128100Z"
    }
   },
   "id": "7a0348422eab4bde"
  },
  {
   "cell_type": "code",
   "execution_count": 11,
   "outputs": [
    {
     "data": {
      "text/plain": "      work_year experience_level employment_type                  job_title  \\\n0          2023           Expert       Full time  Machine Learning Engineer   \n1          2023    Internmediate       Full time               BI Developer   \n2          2023    Internmediate       Full time               BI Developer   \n3          2023    Internmediate       Full time               Data Analyst   \n4          2023    Internmediate       Full time               Data Analyst   \n...         ...              ...             ...                        ...   \n8097       2020           Expert       Full time             Data Scientist   \n8098       2021    Internmediate       Full time   Principal Data Scientist   \n8099       2020           Junior       Full time             Data Scientist   \n8100       2020           Junior        Contract      Business Data Analyst   \n8101       2021           Expert       Full time       Data Science Manager   \n\n      salary_in_usd employee_residence        Country  \n0             70179              Italy  United States  \n1            110000      United States  United States  \n2             75000      United States  United States  \n3             46426           Slovenia       Slovenia  \n4             38868           Slovenia       Slovenia  \n...             ...                ...            ...  \n8097         412000      United States  United States  \n8098         151000      United States  United States  \n8099         105000      United States  United States  \n8100         100000      United States  United States  \n8101          94665              India          India  \n\n[8102 rows x 7 columns]",
      "text/html": "<div>\n<style scoped>\n    .dataframe tbody tr th:only-of-type {\n        vertical-align: middle;\n    }\n\n    .dataframe tbody tr th {\n        vertical-align: top;\n    }\n\n    .dataframe thead th {\n        text-align: right;\n    }\n</style>\n<table border=\"1\" class=\"dataframe\">\n  <thead>\n    <tr style=\"text-align: right;\">\n      <th></th>\n      <th>work_year</th>\n      <th>experience_level</th>\n      <th>employment_type</th>\n      <th>job_title</th>\n      <th>salary_in_usd</th>\n      <th>employee_residence</th>\n      <th>Country</th>\n    </tr>\n  </thead>\n  <tbody>\n    <tr>\n      <th>0</th>\n      <td>2023</td>\n      <td>Expert</td>\n      <td>Full time</td>\n      <td>Machine Learning Engineer</td>\n      <td>70179</td>\n      <td>Italy</td>\n      <td>United States</td>\n    </tr>\n    <tr>\n      <th>1</th>\n      <td>2023</td>\n      <td>Internmediate</td>\n      <td>Full time</td>\n      <td>BI Developer</td>\n      <td>110000</td>\n      <td>United States</td>\n      <td>United States</td>\n    </tr>\n    <tr>\n      <th>2</th>\n      <td>2023</td>\n      <td>Internmediate</td>\n      <td>Full time</td>\n      <td>BI Developer</td>\n      <td>75000</td>\n      <td>United States</td>\n      <td>United States</td>\n    </tr>\n    <tr>\n      <th>3</th>\n      <td>2023</td>\n      <td>Internmediate</td>\n      <td>Full time</td>\n      <td>Data Analyst</td>\n      <td>46426</td>\n      <td>Slovenia</td>\n      <td>Slovenia</td>\n    </tr>\n    <tr>\n      <th>4</th>\n      <td>2023</td>\n      <td>Internmediate</td>\n      <td>Full time</td>\n      <td>Data Analyst</td>\n      <td>38868</td>\n      <td>Slovenia</td>\n      <td>Slovenia</td>\n    </tr>\n    <tr>\n      <th>...</th>\n      <td>...</td>\n      <td>...</td>\n      <td>...</td>\n      <td>...</td>\n      <td>...</td>\n      <td>...</td>\n      <td>...</td>\n    </tr>\n    <tr>\n      <th>8097</th>\n      <td>2020</td>\n      <td>Expert</td>\n      <td>Full time</td>\n      <td>Data Scientist</td>\n      <td>412000</td>\n      <td>United States</td>\n      <td>United States</td>\n    </tr>\n    <tr>\n      <th>8098</th>\n      <td>2021</td>\n      <td>Internmediate</td>\n      <td>Full time</td>\n      <td>Principal Data Scientist</td>\n      <td>151000</td>\n      <td>United States</td>\n      <td>United States</td>\n    </tr>\n    <tr>\n      <th>8099</th>\n      <td>2020</td>\n      <td>Junior</td>\n      <td>Full time</td>\n      <td>Data Scientist</td>\n      <td>105000</td>\n      <td>United States</td>\n      <td>United States</td>\n    </tr>\n    <tr>\n      <th>8100</th>\n      <td>2020</td>\n      <td>Junior</td>\n      <td>Contract</td>\n      <td>Business Data Analyst</td>\n      <td>100000</td>\n      <td>United States</td>\n      <td>United States</td>\n    </tr>\n    <tr>\n      <th>8101</th>\n      <td>2021</td>\n      <td>Expert</td>\n      <td>Full time</td>\n      <td>Data Science Manager</td>\n      <td>94665</td>\n      <td>India</td>\n      <td>India</td>\n    </tr>\n  </tbody>\n</table>\n<p>8102 rows × 7 columns</p>\n</div>"
     },
     "execution_count": 11,
     "metadata": {},
     "output_type": "execute_result"
    }
   ],
   "source": [
    "data_2021_2023_copy['experience_level'] = data_2021_2023_copy['experience_level']\\\n",
    "    .replace('EN', 'Junior')\\\n",
    "    .replace('MI', 'Internmediate')\\\n",
    "    .replace('SE', 'Expert')\\\n",
    "    .replace('EX', 'Director')\n",
    "data_2021_2023_copy"
   ],
   "metadata": {
    "collapsed": false,
    "ExecuteTime": {
     "end_time": "2023-10-25T13:49:45.021587700Z",
     "start_time": "2023-10-25T13:49:44.798219100Z"
    }
   },
   "id": "3c4959d507caac6"
  },
  {
   "cell_type": "code",
   "execution_count": 12,
   "outputs": [],
   "source": [
    "#cleaning dtype\n",
    "data_2017_2020_copy = data_2017_2020_copy.copy()\n",
    "data_2017_2020_copy['SalaryUSD'] = data_2017_2020_copy['SalaryUSD'].apply(lambda x : x.replace(\"$\", \"\"))\n",
    "data_2017_2020_copy['SalaryUSD'] = data_2017_2020_copy['SalaryUSD'].apply(lambda x : x.replace(\",\", \"\"))\n",
    "data_2017_2020_copy['SalaryUSD'] = data_2017_2020_copy['SalaryUSD'].apply(lambda x : x.replace(\" \", \"\"))\n",
    "data_2017_2020_copy['SalaryUSD'] = data_2017_2020_copy['SalaryUSD'].apply(lambda x : x.replace(\".\", \"\"))\n",
    "data_2017_2020_copy['SalaryUSD'] = data_2017_2020_copy['SalaryUSD'].apply(lambda x : x.replace(\".00\", \"\"))"
   ],
   "metadata": {
    "collapsed": false,
    "ExecuteTime": {
     "end_time": "2023-10-25T13:49:45.030560200Z",
     "start_time": "2023-10-25T13:49:44.824283500Z"
    }
   },
   "id": "5f9fecc46fd3e10e"
  },
  {
   "cell_type": "code",
   "execution_count": 13,
   "outputs": [
    {
     "data": {
      "text/plain": "dtype('int32')"
     },
     "execution_count": 13,
     "metadata": {},
     "output_type": "execute_result"
    }
   ],
   "source": [
    "# convert object in int\n",
    "data_2017_2020_copy['SalaryUSD'] = data_2017_2020_copy['SalaryUSD'].astype(int).copy()\n",
    "data_2017_2020_copy['SalaryUSD'].dtypes"
   ],
   "metadata": {
    "collapsed": false,
    "ExecuteTime": {
     "end_time": "2023-10-25T13:49:45.031555700Z",
     "start_time": "2023-10-25T13:49:44.845225900Z"
    }
   },
   "id": "461e3d2aff4951d5"
  },
  {
   "cell_type": "code",
   "execution_count": 14,
   "outputs": [],
   "source": [
    "# separating status jobs\n",
    "status_salary_2017_2020 = data_2017_2020_copy.copy()\n",
    "status_salary_2017_2020['Full_time'] = status_salary_2017_2020['EmploymentStatus'].apply(lambda x: 'Full time' if x == 'Full time' else '')\n",
    "status_salary_2017_2020['Part_time'] = status_salary_2017_2020['EmploymentStatus'].apply(lambda x: 'Part time' if x == 'Part time' else '')\n",
    "status_salary_2017_2020['Freelance'] = status_salary_2017_2020['EmploymentStatus'].apply(lambda x: 'Freelance' if x == 'Freelance' else '')\n",
    "status_salary_2017_2020['Contract'] = status_salary_2017_2020['EmploymentStatus'].apply(lambda x: 'Contract' if x == 'Contract' else '')"
   ],
   "metadata": {
    "collapsed": false,
    "ExecuteTime": {
     "end_time": "2023-10-25T13:49:45.043523700Z",
     "start_time": "2023-10-25T13:49:44.863182600Z"
    }
   },
   "id": "2fb9e7c8ad2532ec"
  },
  {
   "cell_type": "code",
   "execution_count": 15,
   "outputs": [
    {
     "data": {
      "text/plain": "93.33929827431078"
     },
     "execution_count": 15,
     "metadata": {},
     "output_type": "execute_result"
    }
   ],
   "source": [
    "#taux full time\n",
    "full_time_salaries = status_salary_2017_2020[status_salary_2017_2020['Full_time'] == 'Full time']['SalaryUSD'].sum()\n",
    "salary_2017_2020 = status_salary_2017_2020['SalaryUSD'].sum()\n",
    "taux_full_time = full_time_salaries/salary_2017_2020*100\n",
    "taux_full_time"
   ],
   "metadata": {
    "collapsed": false,
    "ExecuteTime": {
     "end_time": "2023-10-25T13:49:45.068457600Z",
     "start_time": "2023-10-25T13:49:44.883636400Z"
    }
   },
   "id": "7de4973e038d1d62"
  },
  {
   "cell_type": "code",
   "execution_count": 16,
   "outputs": [
    {
     "data": {
      "text/plain": "4.610087386457996"
     },
     "execution_count": 16,
     "metadata": {},
     "output_type": "execute_result"
    }
   ],
   "source": [
    "#taux contract\n",
    "contract_salaries = status_salary_2017_2020[status_salary_2017_2020['Contract'] == 'Contract']['SalaryUSD'].sum()\n",
    "taux_contract = contract_salaries/salary_2017_2020*100\n",
    "taux_contract   "
   ],
   "metadata": {
    "collapsed": false,
    "ExecuteTime": {
     "end_time": "2023-10-25T13:49:45.068457600Z",
     "start_time": "2023-10-25T13:49:44.897153200Z"
    }
   },
   "id": "2d168af5c2799cd9"
  },
  {
   "cell_type": "code",
   "execution_count": 17,
   "outputs": [
    {
     "data": {
      "text/plain": "1.7265421015193214"
     },
     "execution_count": 17,
     "metadata": {},
     "output_type": "execute_result"
    }
   ],
   "source": [
    "#taux freelance\n",
    "freelance_salaries = status_salary_2017_2020[status_salary_2017_2020['Freelance'] == 'Freelance']['SalaryUSD'].sum()\n",
    "taux_freelance = freelance_salaries/salary_2017_2020*100\n",
    "taux_freelance"
   ],
   "metadata": {
    "collapsed": false,
    "ExecuteTime": {
     "end_time": "2023-10-25T13:49:45.068457600Z",
     "start_time": "2023-10-25T13:49:44.908926500Z"
    }
   },
   "id": "112024ef09fa1e3a"
  },
  {
   "cell_type": "code",
   "execution_count": 19,
   "outputs": [],
   "source": [
    "data_2021_2023_copy.to_csv(\"Salary_2021_2023.csv\")\n",
    "data_2017_2020_copy.to_csv(\"Salary_2017_2020.csv\")"
   ],
   "metadata": {
    "collapsed": false,
    "ExecuteTime": {
     "end_time": "2023-10-25T13:50:05.520589100Z",
     "start_time": "2023-10-25T13:50:05.462667300Z"
    }
   },
   "id": "ed42fb8da2e59b43"
  },
  {
   "cell_type": "code",
   "execution_count": 18,
   "outputs": [],
   "source": [],
   "metadata": {
    "collapsed": false,
    "ExecuteTime": {
     "end_time": "2023-10-25T13:49:45.071452Z",
     "start_time": "2023-10-25T13:49:45.009106Z"
    }
   },
   "id": "628bfc0600c15532"
  }
 ],
 "metadata": {
  "kernelspec": {
   "display_name": "Python 3",
   "language": "python",
   "name": "python3"
  },
  "language_info": {
   "codemirror_mode": {
    "name": "ipython",
    "version": 2
   },
   "file_extension": ".py",
   "mimetype": "text/x-python",
   "name": "python",
   "nbconvert_exporter": "python",
   "pygments_lexer": "ipython2",
   "version": "2.7.6"
  }
 },
 "nbformat": 4,
 "nbformat_minor": 5
}
